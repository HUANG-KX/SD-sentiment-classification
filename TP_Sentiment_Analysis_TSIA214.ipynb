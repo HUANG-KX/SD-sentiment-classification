{
 "cells": [
  {
   "cell_type": "markdown",
   "metadata": {},
   "source": [
    "# TP : Sentiment analysis on IMDB movie reviews"
   ]
  },
  {
   "cell_type": "markdown",
   "metadata": {},
   "source": [
    "## Objectives\n",
    "\n",
    "1. Implement a simple way to represent text data - Bag of words\n",
    "2. Implement a basic statistical learning model - Bayesian Naive\n",
    "3. Use these representations and this model for a sentiment analysis task.\n",
    "4. Implement different ways of obtaining dense representations of the same data\n",
    "5. Use a logistic regression model to train a classifier on these new representations."
   ]
  },
  {
   "cell_type": "markdown",
   "metadata": {},
   "source": [
    "## Necessary dependancies\n",
    "\n",
    "We will need the following packages:\n",
    "- The Machine Learning API Scikit-learn : http://scikit-learn.org/stable/install.html\n",
    "- The Natural Language Toolkit : http://www.nltk.org/install.html\n",
    "\n",
    "Both are available with Anaconda: https://anaconda.org/anaconda/nltk and https://anaconda.org/anaconda/scikit-learn"
   ]
  },
  {
   "cell_type": "code",
   "execution_count": 1,
   "metadata": {},
   "outputs": [],
   "source": [
    "import os.path as op\n",
    "import re \n",
    "import numpy as np\n",
    "import matplotlib.pyplot as plt"
   ]
  },
  {
   "cell_type": "markdown",
   "metadata": {},
   "source": [
    "## Loading data\n",
    "\n",
    "We retrieve the textual data in the variable *texts*.\n",
    "\n",
    "The labels are retrieved in the variable $y$ - it contains *len(texts)* of them: $0$ indicates that the corresponding review is negative while $1$ indicates that it is positive."
   ]
  },
  {
   "cell_type": "code",
   "execution_count": 394,
   "metadata": {},
   "outputs": [
    {
     "name": "stdout",
     "output_type": "stream",
     "text": [
      "25000 documents\n"
     ]
    }
   ],
   "source": [
    "from glob import glob\n",
    "# We get the files from the path: ./data/imdb1/neg for negative reviews, and ./data/imdb1/pos for positive reviews\n",
    "filenames_neg = sorted(glob(op.join('.', 'data', 'imdb1', 'neg', '*.txt')))\n",
    "filenames_pos = sorted(glob(op.join('.', 'data', 'imdb1', 'pos', '*.txt')))\n",
    "\n",
    "# Each files contains a review that consists in one line of text: we put this string in two lists, that we concatenate\n",
    "texts_neg = [open(f, encoding=\"utf8\").read() for f in filenames_neg]\n",
    "texts_pos = [open(f, encoding=\"utf8\").read() for f in filenames_pos]\n",
    "texts = texts_neg + texts_pos\n",
    "\n",
    "# The first half of the elements of the list are string of negative reviews, and the second half positive ones\n",
    "# We create the labels, as an array of [1,len(texts)], filled with 1, and change the first half to 0\n",
    "y = np.ones(len(texts), dtype=np.int)\n",
    "y[:len(texts_neg)] = 0.\n",
    "\n",
    "print(\"%d documents\" % len(texts))"
   ]
  },
  {
   "cell_type": "code",
   "execution_count": 395,
   "metadata": {},
   "outputs": [
    {
     "data": {
      "text/plain": [
       "(25000,)"
      ]
     },
     "execution_count": 395,
     "metadata": {},
     "output_type": "execute_result"
    }
   ],
   "source": [
    "y.shape"
   ]
  },
  {
   "cell_type": "code",
   "execution_count": 3,
   "metadata": {},
   "outputs": [
    {
     "name": "stdout",
     "output_type": "stream",
     "text": [
      "Number of documents: 2500\n"
     ]
    }
   ],
   "source": [
    "# This number of documents may be high for most computers: we can select a fraction of them (here, one in k)\n",
    "# Use an even number to keep the same number of positive and negative reviews\n",
    "k = 10\n",
    "texts_reduced = texts[0::k]\n",
    "y_reduced = y [0::k]\n",
    "\n",
    "print('Number of documents:', len(texts_reduced))"
   ]
  },
  {
   "cell_type": "markdown",
   "metadata": {},
   "source": [
    "# Naive Bayesian \n",
    "\n",
    "## Main idea\n",
    "\n",
    "A movie review is in fact a list of words $s = (w_1, ..., w_N)$, and we try to find the associated class $c$ - which in our case may be $c = 0$ or $c = 1$. The objective is thus to find for each review $s$ the class $\\hat{c}$ maximizing the conditional probability **$P(c|s)$** : \n",
    "\n",
    "$$\\hat{c} = \\underset{c}{\\mathrm{argmax}}\\, P(c|s) = \\underset{c}{\\mathrm{argmax}}\\,\\frac{P(s|c)P(c)}{P(s)}$$\n",
    "\n",
    "**Hypothesis : P(s) is constant for each class** :\n",
    "\n",
    "$$\\hat{c} = \\underset{c}{\\mathrm{argmax}}\\,\\frac{P(s|c)P(c)}{P(s)} = \\underset{c}{\\mathrm{argmax}}\\,P(s|c)P(c)$$\n",
    "\n",
    "**Naive hypothesis : the variables (words) of a review are independant between themselves** : \n",
    "\n",
    "$$P(s|c) = P(w_1, ..., w_N|c)=\\Pi_{i=1..N}P(w_i|c)$$\n",
    "\n",
    "We will therefore be able to use the reviews at our disposal to **estimate the probabilities $P(w|c)$ for each word $w$ given the two classes $c$**. These reviews will allow us to learn how to evaluate the \"compatibility\" between words and classes."
   ]
  },
  {
   "cell_type": "markdown",
   "metadata": {},
   "source": [
    "## General view\n",
    "\n",
    "### Training: Estimating the probabilities\n",
    "\n",
    "For each word $w$ in the vocabulary $V$, $P(w|c)$ is the number of occurrences of $w$ in all reviews of class $c$, divided by the total number of occurrences in $c$. If we note $T(w,c)$ this number of occurrences, we get:\n",
    "\n",
    "$$P(w|c) = \\text{Frequency of }w\\text{ in }c = \\frac{T(w,c)}{\\sum_{w' \\in V} T(w',c)}$$\n",
    "\n",
    "### Test: Calculating scores\n",
    "\n",
    "To facilitate the calculations and to avoid *underflow* and approximation errors, we use the log-sum trick, and we pass the equation into log-probabilities : \n",
    "\n",
    "$$ \\hat{c} = \\underset{c}{\\mathrm{argmax}} P(c|s) = \\underset{c}{\\mathrm{argmax}} \\left[ \\mathrm{log}(P(c)) + \\sum_{i=1..N}log(P(w_i|c)) \\right] $$\n",
    "\n",
    "### Laplace smoothing\n",
    "\n",
    "A word that does not appear in a document has a probability of zero: this will cause issues with the logarithm. So we keep a very small part of the probability mass that we redistribute with the *Laplace smoothing*: \n",
    "\n",
    "$$P(w|c) = \\frac{T(w,c) + 1}{\\sum_{w' \\in V} T(w',c) + 1}$$\n",
    "\n",
    "There are other smoothing methods, generally suitable for other, more complex applications. "
   ]
  },
  {
   "cell_type": "markdown",
   "metadata": {},
   "source": [
    "## Adapted representation of documents\n",
    "\n",
    "Our statistical model, like most models applied to textual data, uses counts of word occurrences in a document. Thus, a very convenient way to represent a document is to use a Bag-of-Words (BoW) vector, containing the counts of each word (regardless of their order of occurrence) in the document. \n",
    "\n",
    "If we consider the set of all the words appearing in our $T$ training documents, which we note $V$ (Vocabulary), we can create **an index**, which is a bijection associating to each $w$ word an integer, which will be its position in $V$. \n",
    "\n",
    "Thus, for a document extracted from a set of documents containing $|V|$ different words, a BoW representation will be a vector of size $|V|$, whose value at the index of a word $w$ will be its number of occurrences in the document. \n",
    "\n",
    "We can use the **CountVectorizer** class from scikit-learn to better understand:"
   ]
  },
  {
   "cell_type": "code",
   "execution_count": 4,
   "metadata": {},
   "outputs": [],
   "source": [
    "from sklearn.feature_extraction.text import CountVectorizer\n",
    "\n",
    "from sklearn.model_selection import cross_val_score\n",
    "from sklearn.base import BaseEstimator, ClassifierMixin"
   ]
  },
  {
   "cell_type": "code",
   "execution_count": 5,
   "metadata": {},
   "outputs": [
    {
     "name": "stdout",
     "output_type": "stream",
     "text": [
      "['avenue', 'boulevard', 'city', 'down', 'ran', 'the', 'walk', 'walked']\n"
     ]
    },
    {
     "data": {
      "text/plain": [
       "array([[0, 1, 0, 2, 0, 1, 0, 1],\n",
       "       [1, 0, 0, 1, 0, 1, 0, 1],\n",
       "       [0, 1, 0, 1, 1, 1, 0, 0],\n",
       "       [0, 0, 1, 1, 0, 1, 1, 0],\n",
       "       [1, 0, 0, 1, 0, 2, 1, 0]], dtype=int64)"
      ]
     },
     "execution_count": 5,
     "metadata": {},
     "output_type": "execute_result"
    }
   ],
   "source": [
    "corpus = ['I walked down down the boulevard',\n",
    "          'I walked down the avenue',\n",
    "          'I ran down the boulevard',\n",
    "          'I walk down the city',\n",
    "          'I walk down the the avenue']\n",
    "vectorizer = CountVectorizer()\n",
    "\n",
    "Bow = vectorizer.fit_transform(corpus)\n",
    "\n",
    "print(vectorizer.get_feature_names())\n",
    "Bow.toarray()"
   ]
  },
  {
   "cell_type": "markdown",
   "metadata": {},
   "source": [
    "We display the list containing the words ordered according to their index (Note that words of 2 characters or less are not counted)."
   ]
  },
  {
   "cell_type": "markdown",
   "metadata": {},
   "source": [
    "## Detail: training\n",
    "\n",
    "The idea is to extract the number of occurrences $T(w,c)$ for each word $w$ and each class $c$, which will make it possible to calculate the matrix of conditional probabilities $\\pmb{P}$ such that: $$\\pmb{P}_{w,c} = P(w|c)$$\n",
    "\n",
    "Note that the number of occurrences $T(w,c)$ can be easily obtained from the BoW representations of all documents !\n",
    "\n",
    "### Procedure:\n",
    "\n",
    "- Extract the vocabulary $V$ and counts $T(w,c)$ for each of the words $w$ and classes $c$, from a set of documents.\n",
    "- Calculate the a priori probabilities of the classes $P(c) = \\frac{\\sum_{w \\in V} T(w,c)}{\\sum_{c \\in C} \\sum_{w \\in V} T(w,c)}$\n",
    "- Calculate the conditional **smoothed** probabilities $P(w|c) = \\frac{T(w,c) + 1}{\\sum_{w' \\in V} T(w',c) + 1}$.\n",
    "\n",
    "## Detail: test\n",
    "\n",
    "We now know the conditional probabilities given by the $\\pmb{P}$ matrix. \n",
    "Now we must obtain $P(s|c)$ for the current document. This quantity is obtained using a simple calculation involving the BoW representation of the document and $\\pmb{P}$.\n",
    "\n",
    "### Procedure:\n",
    "\n",
    "- For each of the classes $c$,\n",
    "    - $Score(c) = \\log P(c)$\n",
    "    - For each word $w$ in the document to be tested:\n",
    "        - $Score(c) += \\log P(w|c)$\n",
    "- Return $argmax_{c \\in C} Score(c)$ \n",
    "\n",
    "Translated with www.DeepL.com/Translator (free version)"
   ]
  },
  {
   "cell_type": "markdown",
   "metadata": {},
   "source": [
    "## Preprocessing the text: get the BoW representations ##\n",
    "\n",
    "The first thing to do is to turn the review from a string into a list of words. The simplest method is to divide the string according to spaces with the command:\n",
    "``text.split()``\n",
    "\n",
    "But we must also be careful to remove special characters that may not have been cleaned up (such as HTML tags if the data was obtained from web pages). Since we're going to count words, we'll have to build a list of tokens appearing in our data. In our case, we'd like to reduce this list and make it uniform (ignore capitalization, punctuation, and the shortest words). \n",
    "We will therefore use a function adapted to our needs - but this is a job that we generally don't need to do ourselves, since there are many tools already adapted to most situations. \n",
    "For text cleansing, there are many scripts, based on different tools (regular expressions, for example) that allow you to prepare data. The division of the text into words and the management of punctuation is handled in a step called *tokenization*; if needed, a python package like NLTK contains many different *tokenizers*."
   ]
  },
  {
   "cell_type": "code",
   "execution_count": 37,
   "metadata": {},
   "outputs": [
    {
     "name": "stdout",
     "output_type": "stream",
     "text": [
      "['walked', 'down', 'down', 'the', 'boulevard', 'walked', 'down', 'the', 'avenue', 'ran', 'down', 'the', 'boulevard', 'walk', 'down', 'the', 'city', 'walk', 'down', 'the', 'the', 'avenue']\n",
      "['I', 'walked', 'down', 'down', 'the', 'boulevard', '.', 'I', 'walked', 'down', 'the', 'avenue', '.', 'I', 'ran', 'down', 'the', 'boulevard', '.', 'I', 'walk', 'down', 'the', 'city', '.', 'I', 'walk', 'down', 'the', 'the', 'avenue', '.']\n"
     ]
    }
   ],
   "source": [
    "# We might want to clean the file with various strategies:\n",
    "def clean_and_tokenize(text):\n",
    "    \"\"\"\n",
    "    Cleaning a document with:\n",
    "        - Lowercase        \n",
    "        - Removing numbers with regular expressions\n",
    "        - Removing punctuation with regular expressions\n",
    "        - Removing other artifacts\n",
    "    And separate the document into words by simply splitting at spaces\n",
    "    Params:\n",
    "        text (string): a sentence or a document\n",
    "    Returns:\n",
    "        tokens (list of strings): the list of tokens (word units) forming the document\n",
    "    \"\"\"        \n",
    "    # Lowercase\n",
    "    text = text.lower()\n",
    "    # Remove numbers\n",
    "    text = re.sub(r\"[0-9]+\", \"\", text)\n",
    "    # Remove punctuation\n",
    "    REMOVE_PUNCT = re.compile(\"[.;:!\\'?,\\\"()\\[\\]]\")\n",
    "    text = REMOVE_PUNCT.sub(\"\", text)\n",
    "    # Remove small words (1 and statistique2 characters)\n",
    "    text = re.sub(r\"\\b\\w{1,2}\\b\", \"\", text)\n",
    "    # Remove HTML artifacts specific to the corpus we're going to work with\n",
    "    REPLACE_HTML = re.compile(\"(<br\\s*/><br\\s*/>)|(\\-)|(\\/)\")\n",
    "    text = REPLACE_HTML.sub(\" \", text)\n",
    "    \n",
    "    tokens = text.split()        \n",
    "    return tokens\n",
    "\n",
    "# Or we might want to use an already-implemented tool. The NLTK package has a lot of very useful text processing tools, among them various tokenizers\n",
    "# Careful, NLTK was the first well-documented NLP package, but it might be outdated for some uses. Check the documentation !\n",
    "from nltk.tokenize import word_tokenize\n",
    "\n",
    "corpus_raw = \"I walked down down the boulevard. I walked down the avenue. I ran down the boulevard. I walk down the city. I walk down the the avenue.\"\n",
    "print(clean_and_tokenize(corpus_raw))\n",
    "print(word_tokenize(corpus_raw))"
   ]
  },
  {
   "cell_type": "markdown",
   "metadata": {},
   "source": [
    "Function **to be completed**. It takes as input a list of documents (each in the form of a string) and returns, as in the example using ``CountVectorizer``:\n",
    "- A vocabulary that associates, to each word encountered, an index\n",
    "- A matrix, with rows representing documents and columns representing words indexed by the vocabulary. In position $(i,j)$, one should have the number of occurrences of the word $j$ in the document $i$.\n",
    "\n",
    "The vocabulary, which was in the form of a *list* in the previous example, can be returned in the form of a *dictionary* whose keys are the words and values are the indices. Since the vocabulary lists the words in the corpus without worrying about their number of occurrences, it can be built up using a set (in python). \n",
    "Of course, we can use the function ``clean_and_tokenize'' to transform the strings into a list of words. \n",
    "\n",
    "##### Some pointers for beginners in Python :\n",
    "\n",
    "- ```my_list.append(value)``` : put the variable ```value``` at the end of the list ```my_list```\n",
    "\n",
    "-  ```words = set()``` : create a set, which is a list of unique values \n",
    "\n",
    "- ```words.union(my_list)``` : extend the set ```words```\n",
    "\n",
    "- ```dict(zip(keys, values)))``` : create a dictionnary\n",
    "\n",
    "- ```for k, text in enumerate(texts)``` : syntax for a loop with the index, ```texts``` begin a list (of texts !)\n",
    "\n",
    "- ```len(my-list)``` : length of the list ```my_list```\n"
   ]
  },
  {
   "cell_type": "code",
   "execution_count": 7,
   "metadata": {},
   "outputs": [],
   "source": [
    "def count_words(texts):\n",
    "    \"\"\"Vectorize text : return count of each word in the text snippets\n",
    "\n",
    "    Parameters\n",
    "    ----------\n",
    "    texts : list of str\n",
    "        The texts\n",
    "    Returns\n",
    "    -------\n",
    "    vocabulary : dict\n",
    "        A dictionary that points to an index in counts for each word.\n",
    "    counts : ndarray, shape (n_samples, n_features)\n",
    "        The counts of each word in each text.\n",
    "    \"\"\"\n",
    "    words=set(\"\")\n",
    "    my_list=[]\n",
    "    for document in texts:\n",
    "        my_list.append(clean_and_tokenize(document))\n",
    "        words=words.union(clean_and_tokenize(document))\n",
    "    words=list(words)\n",
    "    words.sort()\n",
    "    counts=np.zeros((len(my_list),len(words)))\n",
    "    for i, document in enumerate(my_list):\n",
    "        for j, word in enumerate(words):\n",
    "            counts[i][j]=document.count(word)\n",
    "    vocabulary=dict(zip(words,np.arange(len(words))))\n",
    "    return vocabulary, counts"
   ]
  },
  {
   "cell_type": "code",
   "execution_count": 8,
   "metadata": {},
   "outputs": [
    {
     "name": "stdout",
     "output_type": "stream",
     "text": [
      "{'avenue': 0, 'boulevard': 1, 'city': 2, 'down': 3, 'ran': 4, 'the': 5, 'walk': 6, 'walked': 7}\n",
      "[[0. 1. 0. 2. 0. 1. 0. 1.]\n",
      " [1. 0. 0. 1. 0. 1. 0. 1.]\n",
      " [0. 1. 0. 1. 1. 1. 0. 0.]\n",
      " [0. 0. 1. 1. 0. 1. 1. 0.]\n",
      " [1. 0. 0. 1. 0. 2. 1. 0.]]\n"
     ]
    }
   ],
   "source": [
    "Voc, X = count_words(corpus)\n",
    "print(Voc)\n",
    "print(X)"
   ]
  },
  {
   "cell_type": "markdown",
   "metadata": {},
   "source": [
    "## Naive Bayesian \n",
    "\n",
    "Empty class: functions **to be completed** : \n",
    "\n",
    "```python\n",
    "def fit(self, X, y)\n",
    "``` \n",
    "**Training**: will learn a statistical model based on the representations $X$ corresponding to the labels $y$.\n",
    "Here, $X$ contains representations obtained as the output of ```count_words```. You can complete the function using the procedure detailed above. \n",
    "\n",
    "Note: the smoothing is not necessarily done with a $1$ - it can be done with a positive value $\\alpha$, which we can implement as an argument of the class \"NB\".\n",
    "\n",
    "```python\n",
    "def predict(self, X)\n",
    "```\n",
    "**Testing**: will return the labels predicted by the model for other representations $X$.\n",
    "\n",
    "\n",
    "\n",
    "To facilitate the procedure, we will take half of the $X$ matrix obtained above to train the model, and the other half to evaluate it. **Important**: this is not realistic - usually only the training data is available when creating the vocabulary and training the model. Thus, it is possible that the evaluation data may contain *unknown* words. This is something that can easily be dealt with by dedicating a clue to all the words encountered that are not contained in the vocabulary - but there are many more complex methods for successfully using those words that the model did not encounter in training. "
   ]
  },
  {
   "cell_type": "markdown",
   "metadata": {},
   "source": [
    "##### Some pointers for beginners in Python :\n",
    "\n",
    "Use the Numpy API to work with arrays:\n",
    "\n",
    "\n",
    "- ```X.shape``` : for a ```numpy.array```, return the dimension of the tensor\n",
    "\n",
    "- ```np.zeros((dim_1, dim_2,...))``` : create a tensor filled with zeros\n",
    "\n",
    "- ```np.sum(X, axis = n)``` : sum the tensor over the axis n\n",
    "\n",
    "- ```np.mean(X, axis = n)```\n",
    "\n",
    "- ```np.argmax(X, axis = n)```\n",
    "\n",
    "- ```np.log(X)```\n",
    "\n",
    "- ```np.dot(X_1, X_1)``` : Matrix multiplication"
   ]
  },
  {
   "cell_type": "code",
   "execution_count": 9,
   "metadata": {},
   "outputs": [],
   "source": [
    "class NB(BaseEstimator, ClassifierMixin):\n",
    "    # Class arguments allow to inherit from sklearn classes\n",
    "    def __init__(self, alpha=1.0):\n",
    "        # alpha is the smoothing parameter\n",
    "        self.alpha = alpha\n",
    "\n",
    "    def fit(self, X, y):\n",
    "        # Calcualte T(w,c)\n",
    "        N=y.shape[0]\n",
    "        Index_0=np.where(y==0)\n",
    "        Index_1=np.where(y==1)\n",
    "        T_w_c_0=np.sum(X[Index_0],axis=0).reshape((1,X.shape[1]))\n",
    "        T_w_c_1=np.sum(X[Index_1],axis=0).reshape((1,X.shape[1]))\n",
    "        self.T_w_c=np.concatenate((T_w_c_0,T_w_c_1),axis=0)\n",
    "        # priori probabilities\n",
    "        P_0=np.sum(T_w_c_0)/(np.sum(T_w_c_0)+np.sum(T_w_c_1))\n",
    "        P_1=1-P_0\n",
    "        self.P=np.zeros(2)\n",
    "        self.P[0]=P_0\n",
    "        self.P[1]=P_1\n",
    "        # condition probabilities\n",
    "        P_w_0=((T_w_c_0+self.alpha)/np.sum((T_w_c_0+self.alpha))).reshape((1,X.shape[1]))\n",
    "        P_w_1=((T_w_c_1+self.alpha)/np.sum((T_w_c_1+self.alpha))).reshape((1,X.shape[1]))\n",
    "        self.P_w=np.append(P_w_0,P_w_1,axis=0)\n",
    "        return self\n",
    "\n",
    "    def predict(self, X):\n",
    "        index=np.where(X>0)\n",
    "        o=np.dot(X,np.log(self.P_w.T))\n",
    "        o[:,0]+=np.log(self.P[0])\n",
    "        o[:,1]+=np.log(self.P[1])\n",
    "        result=np.argmax(o,axis=1)\n",
    "        return result\n",
    "\n",
    "    def score(self, X, y):\n",
    "        return np.mean(self.predict(X) == y)"
   ]
  },
  {
   "cell_type": "markdown",
   "metadata": {},
   "source": [
    "## Experimentation\n",
    "\n",
    "We use half the data for training, and the other half for evaluation."
   ]
  },
  {
   "cell_type": "code",
   "execution_count": 10,
   "metadata": {},
   "outputs": [],
   "source": [
    "voc, X = count_words(texts_reduced)"
   ]
  },
  {
   "cell_type": "code",
   "execution_count": 11,
   "metadata": {},
   "outputs": [
    {
     "data": {
      "text/plain": [
       "(2500, 33343)"
      ]
     },
     "execution_count": 11,
     "metadata": {},
     "output_type": "execute_result"
    }
   ],
   "source": [
    "X.shape"
   ]
  },
  {
   "cell_type": "code",
   "execution_count": 12,
   "metadata": {},
   "outputs": [
    {
     "name": "stdout",
     "output_type": "stream",
     "text": [
      "0.796\n"
     ]
    }
   ],
   "source": [
    "nb_ = NB()\n",
    "nb_.fit(X[::2], y_reduced[::2])\n",
    "print(nb_.score(X[1::2], y_reduced[1::2]))"
   ]
  },
  {
   "cell_type": "code",
   "execution_count": 13,
   "metadata": {},
   "outputs": [],
   "source": [
    "vectorizer = CountVectorizer()\n",
    "Bow = vectorizer.fit_transform(texts_reduced)\n",
    "voc_=vectorizer.get_feature_names()\n",
    "X_=Bow.toarray()"
   ]
  },
  {
   "cell_type": "code",
   "execution_count": 14,
   "metadata": {},
   "outputs": [
    {
     "data": {
      "text/plain": [
       "(2500, 28441)"
      ]
     },
     "execution_count": 14,
     "metadata": {},
     "output_type": "execute_result"
    }
   ],
   "source": [
    "X_.shape"
   ]
  },
  {
   "cell_type": "code",
   "execution_count": 15,
   "metadata": {
    "scrolled": true
   },
   "outputs": [
    {
     "name": "stdout",
     "output_type": "stream",
     "text": [
      "0.7856\n"
     ]
    }
   ],
   "source": [
    "nb_2 = NB()\n",
    "nb_2.fit(X_[::2], y_reduced[::2])\n",
    "print(nb_2.score(X_[1::2], y_reduced[1::2]))"
   ]
  },
  {
   "cell_type": "markdown",
   "metadata": {},
   "source": [
    "## Cross-validation \n",
    "\n",
    "With the function *cross_val_score* from scikit-learn"
   ]
  },
  {
   "cell_type": "code",
   "execution_count": 217,
   "metadata": {},
   "outputs": [
    {
     "name": "stdout",
     "output_type": "stream",
     "text": [
      "Classification score: 0.7807999999999999 (std 0.020999047597450676)\n"
     ]
    }
   ],
   "source": [
    "scores = cross_val_score(nb_, X, y_reduced, cv=5)\n",
    "print('Classification score: %s (std %s)' % (np.mean(scores), np.std(scores)))"
   ]
  },
  {
   "cell_type": "code",
   "execution_count": 218,
   "metadata": {},
   "outputs": [
    {
     "name": "stdout",
     "output_type": "stream",
     "text": [
      "Classification score: 0.78 (std 0.020435263639111658)\n"
     ]
    }
   ],
   "source": [
    "scores_ = cross_val_score(nb_2, X_, y_reduced, cv=5)\n",
    "print('Classification score: %s (std %s)' % (np.mean(scores_), np.std(scores_)))"
   ]
  },
  {
   "cell_type": "markdown",
   "metadata": {},
   "source": [
    "## Evaluating performances: \n",
    "\n",
    "**What are the strengths and weaknesses of this system? How can they be remedied?**"
   ]
  },
  {
   "cell_type": "markdown",
   "metadata": {},
   "source": [
    "## To go further: "
   ]
  },
  {
   "cell_type": "code",
   "execution_count": 137,
   "metadata": {},
   "outputs": [],
   "source": [
    "from sklearn.naive_bayes import MultinomialNB\n",
    "from sklearn.feature_extraction.text import TfidfTransformer\n",
    "from sklearn.pipeline import Pipeline"
   ]
  },
  {
   "cell_type": "markdown",
   "metadata": {},
   "source": [
    "## Scikit-learn"
   ]
  },
  {
   "cell_type": "markdown",
   "metadata": {},
   "source": [
    "### Improving representations\n",
    "\n",
    "We use the function \n",
    "```python\n",
    "CountVectorizer\n",
    "``` \n",
    "of scikit-learn. It will allow us to easily improve our BoW representations.\n",
    "\n",
    "#### Tf-idf:\n",
    "\n",
    "This is the product of the frequency of the term (TF) and its inverse frequency in documents (IDF).\n",
    "This method is usually used to measure the importance of a term $i$ in a document $j$ relative to the rest of the corpus, from a matrix of occurrences $ words \\times documents$. Thus, for a matrix $\\mathbf{T}$ of $|V|$ terms and $D$ documents:\n",
    "$$\\text{TF}(T, w, d) = \\frac{T_{w,d}}{\\sum_{w'=1}^{|V|} T_{w',d}} $$\n",
    "\n",
    "$$\\text{IDF}(T,w) = \\log\\left(\\frac{D}{\\frac{\\d: T_{w,d} > 0\\}|}\\right) $$\n",
    "\n",
    "$$\\text{TF-IDF}(T, w, d) = \\text{TF}(X, w, d) \\cdot \\text{IDF}(T, w)$$\n",
    "\n",
    "It can be adapted to our case by considering that the context of the second word is the document. However, TF-IDF is generally better suited to low-density matrices, since it will penalize terms that appear in a large part of the documents. \n",
    "    \n",
    "#### Do not take into account words that are too frequent:\n",
    "\n",
    "You can use the argument\n",
    "```python\n",
    "max_df=1.0\n",
    "```\n",
    "to change the amount of words taken into account. \n",
    "\n",
    "#### Try different granularities:\n",
    "\n",
    "Rather than just counting words, we can count sequences of words - limited in size, of course. \n",
    "We call a sequence of $n$ words a $n$-gram: let's try using 2 and 3-grams (bi- and trigrams).\n",
    "We can also try to use character sequences instead of word sequences.\n",
    "\n",
    "We will be interested in the options \n",
    "```python\n",
    "analyze='word'\n",
    "```\n",
    "and \n",
    "```python\n",
    "ngram_range=(1, 2)\n",
    "```\n",
    "which we'll change to alter the granularity. "
   ]
  },
  {
   "cell_type": "code",
   "execution_count": 138,
   "metadata": {},
   "outputs": [],
   "source": [
    "from sklearn.feature_extraction.text import TfidfTransformer"
   ]
  },
  {
   "cell_type": "code",
   "execution_count": 206,
   "metadata": {
    "scrolled": true
   },
   "outputs": [
    {
     "name": "stdout",
     "output_type": "stream",
     "text": [
      "Classification score: %s (std %s) (0.7807999999999999, 0.0213391658693586)\n",
      "Classification score tf-idf: %s (std %s) (0.7832, 0.023583044756773856)\n",
      "Classification score sans mots fréquents: %s (std %s) (0.7852, 0.022328457179124555)\n",
      "Classification score bigram: %s (std %s) (0.8048, 0.016079800993793397)\n",
      "Classification score trigram: %s (std %s) (0.7432000000000001, 0.012039933554633939)\n",
      "Classification score char: %s (std %s) (0.6108, 0.026551082840441765)\n"
     ]
    }
   ],
   "source": [
    "## We can define a pipeline, with which we can experiment.\n",
    "\n",
    "pipeline_base = Pipeline([\n",
    "    ('vect', CountVectorizer(analyzer='word', stop_words=None)),\n",
    "    ('clf', MultinomialNB()),\n",
    "])\n",
    "scores = cross_val_score(pipeline_base, texts_reduced, y_reduced, cv=5)\n",
    "print(\"Classification score: %s (std %s)\",(np.mean(scores), np.std(scores)))\n",
    "\n",
    "pipeline_tf_idf = Pipeline([\n",
    "        #\n",
    "        ('vect', CountVectorizer(analyzer='word', stop_words=None)),\n",
    "        ('TF-IDF',TfidfTransformer()),\n",
    "        ('clf', MultinomialNB())\n",
    "        #\n",
    "])\n",
    "scores = cross_val_score(pipeline_tf_idf, texts_reduced, y_reduced, cv=5)\n",
    "print(\"Classification score tf-idf: %s (std %s)\",(np.mean(scores), np.std(scores)))\n",
    "\n",
    "pipeline_maxdf = Pipeline([\n",
    "        #\n",
    "        ('vect', CountVectorizer(analyzer='word',max_df=0.8, stop_words=None)),\n",
    "        ('TF-IDF',TfidfTransformer()),\n",
    "        ('clf', MultinomialNB())\n",
    "        #\n",
    "])\n",
    "scores = cross_val_score(pipeline_maxdf, texts_reduced, y_reduced, cv=5)\n",
    "print(\"Classification score sans mots fréquents: %s (std %s)\",(np.mean(scores), np.std(scores)))\n",
    "\n",
    "pipeline_bigram = Pipeline([\n",
    "        #\n",
    "        ('vect', CountVectorizer(analyzer='word',ngram_range=(2, 2),stop_words=None)),\n",
    "        ('clf', MultinomialNB())\n",
    "        #\n",
    "])\n",
    "scores = cross_val_score(pipeline_bigram, texts_reduced, y_reduced, cv=5)\n",
    "print(\"Classification score bigram: %s (std %s)\",(np.mean(scores), np.std(scores)))\n",
    "\n",
    "pipeline_trigram = Pipeline([\n",
    "        #\n",
    "        ('vect', CountVectorizer(analyzer='word',ngram_range=(3, 3), stop_words=None)),\n",
    "        ('clf', MultinomialNB())\n",
    "        #\n",
    "])\n",
    "scores = cross_val_score(pipeline_trigram, texts_reduced, y_reduced, cv=5)\n",
    "print(\"Classification score trigram: %s (std %s)\",(np.mean(scores), np.std(scores)))\n",
    "\n",
    "pipeline_char = Pipeline([\n",
    "        #\n",
    "        ('vect', CountVectorizer(analyzer='char', stop_words=None)),\n",
    "        ('clf', MultinomialNB())\n",
    "        #\n",
    "])\n",
    "scores = cross_val_score(pipeline_char, texts_reduced, y_reduced, cv=5)\n",
    "print(\"Classification score char: %s (std %s)\",(np.mean(scores), np.std(scores)))"
   ]
  },
  {
   "cell_type": "markdown",
   "metadata": {},
   "source": [
    "### Natural Language Toolkit (NLTK)"
   ]
  },
  {
   "cell_type": "markdown",
   "metadata": {},
   "source": [
    "### Stemming \n",
    "\n",
    "Allows to go back to the root of a word: you can group different words around the same root, which facilitates generalization. Use:\n",
    "```python\n",
    "from nltk import SnowballStemmer\n",
    "```"
   ]
  },
  {
   "cell_type": "code",
   "execution_count": 19,
   "metadata": {},
   "outputs": [],
   "source": [
    "from nltk import SnowballStemmer\n",
    "stemmer = SnowballStemmer(\"english\")"
   ]
  },
  {
   "cell_type": "markdown",
   "metadata": {},
   "source": [
    "#### Example:"
   ]
  },
  {
   "cell_type": "code",
   "execution_count": 20,
   "metadata": {},
   "outputs": [
    {
     "name": "stdout",
     "output_type": "stream",
     "text": [
      "word : singers ; stemmed : singer\n",
      "word : cat ; stemmed : cat\n",
      "word : generalization ; stemmed : general\n",
      "word : philosophy ; stemmed : philosophi\n",
      "word : psychology ; stemmed : psycholog\n",
      "word : philosopher ; stemmed : philosoph\n"
     ]
    }
   ],
   "source": [
    "words = ['singers', 'cat', 'generalization', 'philosophy', 'psychology', 'philosopher']\n",
    "for word in words:\n",
    "    print('word : %s ; stemmed : %s' %(word, stemmer.stem(word)))#.decode('utf-8'))))"
   ]
  },
  {
   "cell_type": "markdown",
   "metadata": {},
   "source": [
    "#### Application:\n",
    "\n",
    "Empty class : function **to complete** \n",
    "```python\n",
    "def stem(X)\n",
    "``` "
   ]
  },
  {
   "cell_type": "code",
   "execution_count": 51,
   "metadata": {},
   "outputs": [],
   "source": [
    "def stem(X): \n",
    "    X_stem = []\n",
    "    #\n",
    "    # To fill in !\n",
    "    for document in X:\n",
    "        document_=[]\n",
    "        for words in document.split():\n",
    "            document_.append(stemmer.stem(words))\n",
    "            \n",
    "        X_stem.append(document_)\n",
    "    #\n",
    "    return X_stem"
   ]
  },
  {
   "cell_type": "code",
   "execution_count": 55,
   "metadata": {},
   "outputs": [
    {
     "name": "stdout",
     "output_type": "stream",
     "text": [
      "['I walked down down the boulevard', 'I walked down the avenue', 'I ran down the boulevard', 'I walk down the city', 'I walk down the the avenue']\n",
      "['i walk down down the boulevard', 'i walk down the avenu', 'i ran down the boulevard', 'i walk down the citi', 'i walk down the the avenu']\n"
     ]
    }
   ],
   "source": [
    "# Test\n",
    "print(corpus)\n",
    "print((stem(corpus)))"
   ]
  },
  {
   "cell_type": "code",
   "execution_count": 58,
   "metadata": {},
   "outputs": [
    {
     "name": "stdout",
     "output_type": "stream",
     "text": [
      "Classification score: 0.77 (std 0.016589153082662192)\n"
     ]
    }
   ],
   "source": [
    "texts_stemmed = stem(texts_reduced)\n",
    "voc, X = count_words(texts_stemmed)\n",
    "nb = NB()\n",
    "\n",
    "scores = cross_val_score(nb, X, y_reduced, cv=5)\n",
    "print('Classification score: %s (std %s)' % (np.mean(scores), np.std(scores)))"
   ]
  },
  {
   "cell_type": "markdown",
   "metadata": {},
   "source": [
    "### Part of speech tags\n",
    "\n",
    "To generalize, we can also use the Part of Speech (POS) of the words, which will allow us to filter out information that is potentially not useful to the model. We will retrieve the POS of the words using the functions:\n",
    "```python\n",
    "from nltk import pos_tag, word_tokenize\n",
    "```"
   ]
  },
  {
   "cell_type": "code",
   "execution_count": 59,
   "metadata": {},
   "outputs": [],
   "source": [
    "import nltk\n",
    "from nltk import pos_tag, word_tokenize"
   ]
  },
  {
   "cell_type": "code",
   "execution_count": 60,
   "metadata": {},
   "outputs": [
    {
     "name": "stderr",
     "output_type": "stream",
     "text": [
      "[nltk_data] Downloading package averaged_perceptron_tagger to\n",
      "[nltk_data]     C:\\Users\\Administrator\\AppData\\Roaming\\nltk_data...\n",
      "[nltk_data]   Package averaged_perceptron_tagger is already up-to-\n",
      "[nltk_data]       date!\n"
     ]
    },
    {
     "data": {
      "text/plain": [
       "True"
      ]
     },
     "execution_count": 60,
     "metadata": {},
     "output_type": "execute_result"
    }
   ],
   "source": [
    "nltk.download('averaged_perceptron_tagger')"
   ]
  },
  {
   "cell_type": "markdown",
   "metadata": {},
   "source": [
    "#### Example:"
   ]
  },
  {
   "cell_type": "code",
   "execution_count": 61,
   "metadata": {
    "scrolled": true
   },
   "outputs": [
    {
     "data": {
      "text/plain": [
       "[('I', 'PRP'), ('am', 'VBP'), ('Sam', 'NNP')]"
      ]
     },
     "execution_count": 61,
     "metadata": {},
     "output_type": "execute_result"
    }
   ],
   "source": [
    "import nltk\n",
    "#nltk.download('punkt')\n",
    "#nltk.download('averaged_perceptron_tagger')\n",
    "\n",
    "pos_tag(word_tokenize(('I am Sam')))"
   ]
  },
  {
   "cell_type": "markdown",
   "metadata": {},
   "source": [
    "Details of POS tags meanings: https://stackoverflow.com/questions/15388831/what-are-all-possible-pos-tags-of-nltk"
   ]
  },
  {
   "cell_type": "markdown",
   "metadata": {},
   "source": [
    "#### Application:\n",
    "\n",
    "Empty class : function **to complete** \n",
    "```python\n",
    "def pos_tag_filter(X, good_tags=['NN', 'VB', 'ADJ', 'RB'])\n",
    "``` \n",
    "\n",
    "Only keeps nouns, adverbs, verbs and adjectives for our model. "
   ]
  },
  {
   "cell_type": "code",
   "execution_count": 131,
   "metadata": {},
   "outputs": [],
   "source": [
    "def pos_tag_filter(X, good_tags=['NN', 'VB', 'ADJ', 'RB','VBD','VBG','VBN','VBP','VBZ']):\n",
    "    X_pos = []\n",
    "    #\n",
    "    # To fill in !\n",
    "    for document in X:\n",
    "        word_left=[]\n",
    "        words=pos_tag(word_tokenize((document)))\n",
    "        for word in words:\n",
    "            if (word[1] in good_tags):\n",
    "                word_left.append(word[0])\n",
    "        strings = \" \".join(word_left)\n",
    "        X_pos.append(strings)\n",
    "    #\n",
    "    return X_pos"
   ]
  },
  {
   "cell_type": "code",
   "execution_count": 133,
   "metadata": {},
   "outputs": [
    {
     "name": "stdout",
     "output_type": "stream",
     "text": [
      "['I walked down down the boulevard', 'I walked down the avenue', 'I ran down the boulevard', 'I walk down the city', 'I walk down the the avenue']\n",
      "['walked down down boulevard', 'walked avenue', 'ran down boulevard', 'walk city', 'walk avenue']\n"
     ]
    }
   ],
   "source": [
    "# Test\n",
    "print(corpus)\n",
    "print((pos_tag_filter(corpus)))"
   ]
  },
  {
   "cell_type": "code",
   "execution_count": 134,
   "metadata": {},
   "outputs": [
    {
     "name": "stdout",
     "output_type": "stream",
     "text": [
      "Classification score: 0.7724 (std 0.016169106345126204)\n"
     ]
    }
   ],
   "source": [
    "texts_POS = pos_tag_filter(texts_reduced)\n",
    "voc, X = count_words(texts_POS)\n",
    "nb = NB()\n",
    "\n",
    "scores = cross_val_score(nb, X, y_reduced, cv=5)\n",
    "print('Classification score: %s (std %s)' % (np.mean(scores), np.std(scores)))"
   ]
  },
  {
   "cell_type": "markdown",
   "metadata": {},
   "source": [
    "## Using a more complex classifier?\n",
    "\n",
    "We can use scikit-learn implementations of less naive classifiers, such as logistic regression or SVM. What is the main disadvantage of this (let's imagine that, rather than a linear model, we choose to use a neural network with several hidden layers)?"
   ]
  },
  {
   "cell_type": "code",
   "execution_count": 135,
   "metadata": {},
   "outputs": [],
   "source": [
    "from sklearn.svm import LinearSVC\n",
    "from sklearn.linear_model import LogisticRegression"
   ]
  },
  {
   "cell_type": "code",
   "execution_count": 139,
   "metadata": {},
   "outputs": [
    {
     "name": "stderr",
     "output_type": "stream",
     "text": [
      "C:\\Users\\Administrator\\Anaconda3\\lib\\site-packages\\sklearn\\svm\\base.py:929: ConvergenceWarning: Liblinear failed to converge, increase the number of iterations.\n",
      "  \"the number of iterations.\", ConvergenceWarning)\n",
      "C:\\Users\\Administrator\\Anaconda3\\lib\\site-packages\\sklearn\\svm\\base.py:929: ConvergenceWarning: Liblinear failed to converge, increase the number of iterations.\n",
      "  \"the number of iterations.\", ConvergenceWarning)\n",
      "C:\\Users\\Administrator\\Anaconda3\\lib\\site-packages\\sklearn\\svm\\base.py:929: ConvergenceWarning: Liblinear failed to converge, increase the number of iterations.\n",
      "  \"the number of iterations.\", ConvergenceWarning)\n"
     ]
    },
    {
     "name": "stdout",
     "output_type": "stream",
     "text": [
      "Classification score: 0.7988000000000001 (std 0.008352245207128448)\n"
     ]
    },
    {
     "name": "stderr",
     "output_type": "stream",
     "text": [
      "C:\\Users\\Administrator\\Anaconda3\\lib\\site-packages\\sklearn\\linear_model\\logistic.py:432: FutureWarning: Default solver will be changed to 'lbfgs' in 0.22. Specify a solver to silence this warning.\n",
      "  FutureWarning)\n",
      "C:\\Users\\Administrator\\Anaconda3\\lib\\site-packages\\sklearn\\linear_model\\logistic.py:432: FutureWarning: Default solver will be changed to 'lbfgs' in 0.22. Specify a solver to silence this warning.\n",
      "  FutureWarning)\n",
      "C:\\Users\\Administrator\\Anaconda3\\lib\\site-packages\\sklearn\\linear_model\\logistic.py:432: FutureWarning: Default solver will be changed to 'lbfgs' in 0.22. Specify a solver to silence this warning.\n",
      "  FutureWarning)\n",
      "C:\\Users\\Administrator\\Anaconda3\\lib\\site-packages\\sklearn\\linear_model\\logistic.py:432: FutureWarning: Default solver will be changed to 'lbfgs' in 0.22. Specify a solver to silence this warning.\n",
      "  FutureWarning)\n",
      "C:\\Users\\Administrator\\Anaconda3\\lib\\site-packages\\sklearn\\linear_model\\logistic.py:432: FutureWarning: Default solver will be changed to 'lbfgs' in 0.22. Specify a solver to silence this warning.\n",
      "  FutureWarning)\n"
     ]
    },
    {
     "name": "stdout",
     "output_type": "stream",
     "text": [
      "Classification score: 0.8084000000000001 (std 0.008039900496896688)\n"
     ]
    }
   ],
   "source": [
    "pipeline_logistic = Pipeline([\n",
    "    #\n",
    "    # To fill in ! \n",
    "    ('vect', CountVectorizer(analyzer='word', stop_words=None)),\n",
    "    ('clf', LinearSVC())\n",
    "    #\n",
    "])\n",
    "scores = cross_val_score(pipeline_logistic, texts_reduced, y_reduced, cv=5)\n",
    "print(\"Classification score: %s (std %s)\" % (np.mean(scores), np.std(scores)))\n",
    "\n",
    "pipeline_svm = Pipeline([\n",
    "    #\n",
    "    # To fill in ! \n",
    "    ('vect', CountVectorizer(analyzer='word', stop_words=None)),\n",
    "    ('clf', LogisticRegression())\n",
    "    #\n",
    "])\n",
    "scores = cross_val_score(pipeline_svm, texts_reduced, y_reduced, cv=5)\n",
    "print(\"Classification score: %s (std %s)\" % (np.mean(scores), np.std(scores)))"
   ]
  },
  {
   "cell_type": "markdown",
   "metadata": {},
   "source": [
    "# Dense Representations \n",
    "\n",
    "##  Word Embeddings : Distributed representations via the distributional hypothesis \n",
    "\n",
    "**Goal**: We will try to obtain dense representations (as vectors of real numbers) of words (and possibly sentences). These representations are intended to be distributed: they are non-local representations. We represent an object as a combination of *features*, as opposed to the attribution of a dedicated symbol: see the founding work of Geoffrey Hinton, among others, on the subject: [Distributed Representations](https://web.stanford.edu/~jlmcc/papers/PDP/Chapter3.pdf).\n",
    "\n",
    "The term *distributed* representations is very general, but is what we are looking for. The challenge is therefore to be able to build, automatically, such representations.\n",
    "\n",
    "**Underlying idea**: It is based on the distributional hypothesis: contextual information is sufficient to obtain a viable representation of linguistic objects.\n",
    " - For a large class of cases [...] the meaning of a word is its use in the language.\" Wittgenstein (Philosophical Investigations, 43 - 1953)\n",
    " - You shall know a word by the company it keeps, Firth.\n",
    "\n",
    "Thus, a word can be characterized by the words that accompany it, via co-occurrence counts. Two words with a similar meaning will have a similar contextual distribution and are therefore more likely to appear in similar contexts. This hypothesis can be used as a justification for the application of statistics to semantics (information extraction, semantic analysis). It also allows some form of generalization: we can assume that the information we have about a word will be generalized to words with a similar distribution. \n",
    "\n",
    "**Motivation**: The goal is to obtain distributed representations in order to be able to effectively**:\n",
    "- Directly perform a semantic surface analysis.\n",
    "- Use it as a source of information for other language-related models and applications, especially for sentiment analysis. \n",
    "\n",
    "\n",
    "**Terminology**: Be careful not to confuse the idea of *distributed* and *distributional* representation. The latter generally indicates (for words) that the representation has been obtained strictly from co-occurrence counts, whereas additional information (document labels, part of speech tags, ...) can be used to build distributed representations. \n",
    "The models that allow to build these dense representations, in the form of vectors, are often called *vector spaces models*. These representations are also regularly called *word embeddings*, because the words are embedded in a vector space. In French, we often find the term *word embedding* or *lexical embedding*."
   ]
  },
  {
   "cell_type": "markdown",
   "metadata": {},
   "source": [
    "## Getting representations: counts of occurrences and co-occurrences\n",
    "\n",
    "Depending on the type of corpus available, different types of distributional information can be obtained. If we have access to a collection of documents, we can thus choose to count the number of occurrences of each word in each document, to obtain a $words \\times documents$ matrix: it is on this principle that **Tf-Idf** is built. We will now look at a more general case: we have a large amount of data in text form, and we want to obtain representations of words in the form of vectors of reduced size, without the need to divide them into documents or categories. \n",
    "\n",
    "Suppose we have a corpus containing $T$ different words. We will construct a $\\mathbf{M}$ matrix of size $T \\times T$ which will contain the number of co-occurrences between words. There will be different factors to consider when constructing this matrix: \n",
    "\n",
    "- How do you define the 'context' of a word - context which will tell you what terms co-occur with that word?\n",
    "\n",
    "We can choose to use different scales: the document, the sentence, the nominal group, or simply a window of $k$ words, depending on the information we want to capture.\n",
    "\n",
    "\n",
    "- How do we quantify the importance of the counts? \n",
    "\n",
    "$\\rightarrow$ For example, we can give a decreasing weight to a co-occurrence according to the distance between the two words concerned ($\\frac{1}{d+1}$ for a separation by $d$ words).\n",
    "\n",
    "\n",
    "- Should we keep all the words that appear in the corpus? \n",
    "\n",
    "$\\rightarrow$ Usually not. We will see that for large corpora, the number $T$ of different words is huge. Second, even if the number of words is reasonable, we will have very little distributional information on the rarest words, and the representation obtained will be of poor quality. We will have to ask ourselves how to filter these words, and how to treat the words we choose not to represent.  "
   ]
  },
  {
   "cell_type": "markdown",
   "metadata": {},
   "source": [
    "#### Example:\n",
    "\n",
    "Let's look at the following text:\n",
    "\n",
    "*I walked down down the boulevard. I walked down the avenue. I ran down the boulevard. I walk down the city. I walk down the the avenue.*\n",
    "\n",
    "We choose to define the context of a word as the sentence to which it belongs, and to not use any weighting.\n",
    "We obtain the following matrix: \n",
    "\n",
    "|     *         | I | the | down | walked | boulevard | avenue | walk | ran | city |\n",
    "|---------------|---|-----|------|--------|-----------|--------|------|-----|------|\n",
    "| I             | 0 |      6 |    6 |   2 |         2 |      2 |   2 |    1 |    1 |\n",
    "| the           | 6 |      2 |    7 |   2 |         2 |      3 |   3 |    1 |    1 |\n",
    "| down          | 6 |      7 |    2 |   3 |         3 |      2 |   2 |    1 |    1 |\n",
    "| walked        | 2 |      2 |    3 |   0 |         1 |      1 |   0 |    0 |    0 |\n",
    "| boulevard     | 2 |      2 |    3 |   1 |         0 |      0 |   0 |    1 |    0 |\n",
    "| avenue        | 2 |      3 |    2 |   1 |         0 |      0 |   1 |    0 |    0 |\n",
    "| ran           | 2 |      3 |    2 |   0 |         0 |      1 |   0 |    0 |    1 |\n",
    "| walk          | 1 |      1 |    1 |   0 |         1 |      0 |   0 |    0 |    0 |\n",
    "| city          | 1 |      1 |    1 |   0 |         0 |      0 |   1 |    0 |    1 |"
   ]
  },
  {
   "cell_type": "markdown",
   "metadata": {},
   "source": [
    "## Modifying the representations:\n",
    "\n",
    "We may want to alter the representations to obtain better features - depending on what use we will have for them.\n",
    "\n",
    "**Normalization**: Very easy: we want to cancel the influence of the magnitude of the counts on the representation.\n",
    "\n",
    "$$\\mathbf{m_{normalized}} = \\left[ \n",
    "   \\frac{m_{1}}{\\sum_{i=1}^{n}m_{i}}, \n",
    "   \\frac{m_{2}}{\\sum_{i=1}^{n}m_{i}}, \n",
    "   \\ldots\n",
    "   \\frac{m_{n}}{\\sum_{i=1}^{n}m_{i}}, \n",
    "\\right]$$\n",
    " \n",
    "**Pointwise Mutual Information**: The aim is to assess the extent to which the co-occurrence of the two terms is *unexpected*. This measure is the ratio of the joint probability of the two words and the product of their individual probabilities:\n",
    "$$\n",
    "\\text{PMI}(x,y) = \\log \\left( \\frac{P(x,y)}{P(x)P(y)} \\right)\n",
    "$$\n",
    "The joint probability of the two words corresponds to the number of times they are observed together, divided by the total number of co-occurrences in the corpus: \n",
    "$$ P(\\mathbf{M},w_{1},w_{2}) = \\frac{M_{w_{1},w_{2}}}{\\sum_{i=1}^{n}\\sum_{j=1}^{n} M_{i,j}} $$\n",
    "The individual probability of a word simply corresponds to its frequency, which can be calculated by counting all co-occurrences where that word appears:\n",
    "$$ P(\\mathbf{M},w) = \\frac{\\sum_{j=1}^{m} M_{w,j}}{\\sum_{i=1}^{n}\\sum_{j=1}^{n} M_{i,j}} $$\n",
    "Hence,\n",
    "$$ \n",
    "\\text{PMI}(\\mathbf{M},w_{1},w_{2}) = \\log  \\frac{M_{w_{1},w_{2}} \\times \\left( \\sum_{i=1}^{n}\\sum_{j=1}^{n} M_{i,j} \\right)}{\\left( \\sum_{j=1}^{n} M_{w_{1},j} \\right) \\times \\left( \\sum_{i=1}^{n}M_{i,w_{2}} \\right)} \n",
    "$$\n",
    "We thus calculate the discrepancy between the observation we have made in our corpus and the frequency of appearance of these terms if we consider them independent - i.e. we assume that their co-occurrence is a coincidence.\n",
    "\n",
    "The main problem with this measure is that it is not adapted to the case where no co-occurrence is observed. Since the PMI is supposed to return a positive quantity if more co-occurrences are observed than expected, and a negative quantity if fewer co-occurrences are observed, we cannot choose to replace $\\log(0)$ by $0. A commonly used solution is to use the **Positive PMI**, which sets all negative values to $0$.\n",
    " \n",
    " $$\\text{PPMI}(\\mathbf{M},w_{1},w_{2}) = \n",
    " \\begin{cases}\n",
    " \\text{PMI}(\\mathbf{M},w_{1},w_{2}) & \\textrm{if } \\text{PMI}(\\mathbf{M},w_{1},w_{2}) > 0 \\\\\n",
    " 0 & \\textrm{otherwise}\n",
    " \\end{cases}$$\n",
    " \n",
    " **TF-IDF**: As noted earlier, this is the product of the frequency of the term (TF) and its inverse frequency in the documents (IDF). \n",
    "This method is usually used to extract the importance of a term $i$ in a document $j$ relative to the rest of the corpus, from a $terms \\times documents$ matrix. Thus, for a matrix $\\mathbf{X}$ of $n$ terms and $d$ documents: \n",
    "\n",
    " $$\\text{TF}(X, i, j) = \\frac{X_{i,j}}{\\sum_{i=1}^{t} X_{i,j}} $$\n",
    " \n",
    " $$\\text{IDF}(X, i) = \\log\\left(\\frac{d}{|\\{j : X_{i,j} > 0\\}|}\\right)$$\n",
    " \n",
    " $$\\text{TF-IDF}(X, i, j) = \\text{TF}(X, i, j) \\cdot \\text{IDF}(X, i)$$\n",
    "\n",
    "\n",
    "It can be adapted to our case by considering that the context of the second word is the document. However, TF-IDF is generally better suited to low-density matrices, since it will penalize terms that appear in a large part of the documents. Thus, applying it to the co-occurrences of the most frequent words is a priori not optimal."
   ]
  },
  {
   "cell_type": "markdown",
   "metadata": {},
   "source": [
    "### Co-occurences matrix : reducing the dimension\n",
    "\n",
    "#### Motivation\n",
    "\n",
    "The aim is not only to reduce the size of the data (thus, we will deal with vectors of reduced dimensions, rather than working with vectors of the size of the vocabulary) but also to highlight higher level relationships between words: by reducing their representations to the *most important* dimensions of the data, we *generalize* certain properties between words.\n",
    "\n",
    "#### Dimension reduction via SVD \n",
    "\n",
    "A matrix is a linear transformation: applying an SVD to it means decomposing our linear transformation into a product of linear transformations of different types. In fact, we will change the basis of our vector, and replace our data in a space where each of the coordinates are unchanged by the transformation carried out. Thus, we decompose the matrix $\\mathbf{M}$ into three matrices:\n",
    "\n",
    "$$ \\mathbf{M} = \\mathbf{U} \\mathbf{\\lambda} \\mathbf{V}^{\\text{T}} $$\n",
    "\n",
    "Matrices $\\mathbf{U}$, $\\mathbf{\\lambda}$, et $\\mathbf{V}$ have the following properties:\n",
    "- $\\mathbf{U}$ and $\\mathbf{V}$ are orthogonal matrices ($\\mathbf{U}^{\\text{T}} = \\mathbf{U}^{-1}$ and $\\mathbf{V}^{\\text{T}} = \\mathbf{V}^{-1}$). They contain the eigen vectors to the right and to the left of $\\mathbf{M}$.\n",
    "- $\\mathbf{\\lambda}$ is a diagonal matrix: careful, it's not necessarily square. Values on the diagonal are the eigenvalues of $\\mathbf{M}$.\n",
    "\n",
    "Thus, the *most important* dimensions correspond to the largest eigenvalues. Reducing our data to $k$ dimensions corresponds to keeping only the vectors corresponding to the first $k$ eigenvalues - and this is equivalent to taking the first $k$ vectors of the $U$ matrix. \n",
    "\n",
    "Note: When we apply this method to the matrix of $\\mathbf{M}$ counts of dimension $T \\times D$, where $\\mathbf{M}_{t,d}$ contains the number of occurrences of the word $t$ in the document $d$, we obtain the method called **Latent Semantic Analysis**, for the detection of latent (semantic) components allowing the grouping of documents.  "
   ]
  },
  {
   "cell_type": "markdown",
   "metadata": {},
   "source": [
    "### In practice: get a Vocabulary.\n",
    "\n",
    "To begin, we will implement separately a function returning the vocabulary. Here we will have to be able to control its size, either by indicating a maximum number of words, or a minimum number of occurrences to take the words into account. We add, at the end, an \"unknown\" word that will replace all the words that do not appear in our \"limited\" vocabulary. "
   ]
  },
  {
   "cell_type": "code",
   "execution_count": 253,
   "metadata": {},
   "outputs": [],
   "source": [
    "def vocabulary(corpus, count_threshold=1, voc_threshold=0):\n",
    "    \"\"\"    \n",
    "    Function using word counts to build a vocabulary - can be improved with a second parameter for \n",
    "    setting a frequency threshold\n",
    "    Params:\n",
    "        corpus (list of strings): corpus of sentences\n",
    "        count_threshold (int): number of occurences necessary for a word to be included in the vocabulary\n",
    "        voc_threshold (int): maximum size of the vocabulary \n",
    "    Returns:\n",
    "        vocabulary (dictionary): keys: list of distinct words across the corpus\n",
    "                                 values: indexes corresponding to each word sorted by frequency   \n",
    "        vocabulary_word_counts (dictionary): keys: list of distinct words across the corpus\n",
    "                                             values: corresponding counts of words in the corpus\n",
    "    \"\"\"\n",
    "    my_list=[]\n",
    "    words=set()\n",
    "    for document in corpus:\n",
    "        my_list.append(document.split())\n",
    "        words=words.union(document.split())\n",
    "        #words=words.union(word_tokenize(document))\n",
    "    counts=np.zeros(len(words))\n",
    "    for document in my_list:\n",
    "        for i, word in enumerate(words):\n",
    "            counts[i]+=document.count(word)\n",
    "    counts=list(counts)\n",
    "    counts = list(map(int, counts))\n",
    "    words=list(words)\n",
    "    zipped = zip(counts,words)\n",
    "    sort_zipped = sorted(zipped,key=lambda x:(-x[0],x[1]))\n",
    "    result = zip(*sort_zipped)\n",
    "    counts, words = [list(x) for x in result]\n",
    "    # word_counts=dict(zip(words,counts))\n",
    "    if voc_threshold!=0:\n",
    "        word_counts=dict(zip(words[0:voc_threshold],counts[0:voc_threshold]))\n",
    "\n",
    "    else:\n",
    "        word_counts=dict(zip(words,counts))\n",
    "        \n",
    "    #\n",
    "    # A compléter ! \n",
    "    # \n",
    "    filtered_word_counts = {key:val for key,val in word_counts.items() if val>=count_threshold}\n",
    "    #\n",
    "    # A compléter ! \n",
    "    # \n",
    "    keys = filtered_word_counts.keys()\n",
    "    values = filtered_word_counts.values()\n",
    "    count_unknow=np.sum(np.array(counts))-np.sum(np.array(list(values)))\n",
    "    filtered_word_counts.update(UNK=count_unknow)\n",
    "    vocabulary = dict(zip(keys,np.arange(len(keys))))\n",
    "    vocabulary_word_counts = filtered_word_counts\n",
    "    #\n",
    "    # A compléter ! \n",
    "    #\n",
    "    return vocabulary, vocabulary_word_counts"
   ]
  },
  {
   "cell_type": "code",
   "execution_count": 254,
   "metadata": {},
   "outputs": [
    {
     "name": "stdout",
     "output_type": "stream",
     "text": [
      "{'down': 0, 'the': 1, 'I': 2, 'UNK': 3}\n",
      "{'down': 6, 'the': 6, 'I': 5, 'UNK': 10}\n",
      "{'down': 0, 'the': 1, 'I': 2, 'avenue': 3, 'boulevard': 4, 'walk': 5, 'walked': 6, 'city': 7, 'ran': 8, 'UNK': 9}\n",
      "{'down': 6, 'the': 6, 'I': 5, 'avenue': 2, 'boulevard': 2, 'walk': 2, 'walked': 2, 'city': 1, 'ran': 1, 'UNK': 0}\n"
     ]
    }
   ],
   "source": [
    "# Example for testing:\n",
    "\n",
    "corpus = ['I walked down down the boulevard',\n",
    "          'I walked down the avenue',\n",
    "          'I ran down the boulevard',\n",
    "          'I walk down the city',\n",
    "          'I walk down the the avenue']\n",
    "\n",
    "voc, counts = vocabulary(corpus, count_threshold = 3)\n",
    "print(voc)\n",
    "print(counts)\n",
    "\n",
    "# We expect something like this:\n",
    "# (In this example, we don't count 'UNK' unknown words, but you can if you want to. \n",
    "# How useful it may be depends on the data -> we will use the counts later with word2vec, keep that in mind) \n",
    "#  {'down': 0, 'the': 1, 'i': 2, 'UNK': 3}\n",
    "#  {'down': 6, 'the': 6, 'i': 5, 'UNK': 0}\n",
    "\n",
    "voc, counts = vocabulary(corpus)\n",
    "print(voc)\n",
    "print(counts)\n",
    "\n",
    "# We expect something like this:\n",
    "#  {'down': 0, 'the': 1, 'i': 2, 'walked': 3, 'boulevard': 4, 'avenue': 5, 'walk': 6, 'ran': 7, 'city': 8, 'UNK': 9}\n",
    "#  {'down': 6, 'the': 6, 'i': 5, 'walked': 2, 'boulevard': 2, 'avenue': 2, 'walk': 2, 'ran': 1, 'city': 1, 'UNK': 0}"
   ]
  },
  {
   "cell_type": "markdown",
   "metadata": {},
   "source": [
    "#### Application to a real data set\n",
    "\n",
    "We're going to work with the **imdb** data.\n",
    "\n",
    "#### Quick study of the data\n",
    "\n",
    "We would like to get an idea of what's in these film reviews before we proceed. So we'll get the vocabulary (in full) and represent the frequencies of the words, in order (be careful, you'll have to use a logarithmic scale): we should find back Zipf's law. This will give us an idea of the size of the vocabulary we will be able to choose: it's a matter of making a compromise between the necessary resources (size of the objects in memory) and the amount of information we can get from them (rare words can bring a lot of information, but it's difficult to learn good representations of them, because they are rare!).  "
   ]
  },
  {
   "cell_type": "code",
   "execution_count": 224,
   "metadata": {},
   "outputs": [],
   "source": [
    "# We would like to display the curve of word frequencies given their rank (index) in the vocabulary\n",
    "vocab, word_counts = vocabulary(texts_reduced)"
   ]
  },
  {
   "cell_type": "code",
   "execution_count": 413,
   "metadata": {},
   "outputs": [
    {
     "data": {
      "text/plain": [
       "64489"
      ]
     },
     "execution_count": 413,
     "metadata": {},
     "output_type": "execute_result"
    }
   ],
   "source": [
    "len(vocab)"
   ]
  },
  {
   "cell_type": "code",
   "execution_count": 235,
   "metadata": {},
   "outputs": [
    {
     "data": {
      "image/png": "[encoded data removed]",
      "text/plain": [
       "<Figure size 1440x360 with 1 Axes>"
      ]
     },
     "metadata": {
      "needs_background": "light"
     },
     "output_type": "display_data"
    },
    {
     "name": "stdout",
     "output_type": "stream",
     "text": [
      "Vocabulary size: 64489\n",
      "Part of the corpus by taking the \"x\" most frequent words ?\n"
     ]
    },
    {
     "data": {
      "text/plain": [
       "[<matplotlib.lines.Line2D at 0x25a6fde9988>]"
      ]
     },
     "execution_count": 235,
     "metadata": {},
     "output_type": "execute_result"
    },
    {
     "data": {
      "image/png": "[encoded data removed]",
      "text/plain": [
       "<Figure size 432x288 with 1 Axes>"
      ]
     },
     "metadata": {
      "needs_background": "light"
     },
     "output_type": "display_data"
    }
   ],
   "source": [
    "#\n",
    "#  To fill in !\n",
    "x=np.array(list(vocab.values()))\n",
    "y_=np.array(list(word_counts.values()))\n",
    "#\n",
    "\n",
    "# We can for example use the function plt.scatter()\n",
    "plt.figure(figsize=(20,5))\n",
    "plt.title('Word counts versus rank')\n",
    "#\n",
    "#  To fill in !\n",
    "plt.plot(x,y_)\n",
    "#\n",
    "plt.yscale('log')\n",
    "plt.show()\n",
    "\n",
    "# We would like to know how much of the data is represented by the 'k' most frequent words\n",
    "print('Vocabulary size: %i' % len(vocab))\n",
    "print('Part of the corpus by taking the \"x\" most frequent words ?')\n",
    "#\n",
    "#  To fill in !-\n",
    "percents=[]\n",
    "for i in range(len(vocab)):\n",
    "    percents.append(np.sum(y_[0:i])/np.sum(y_))\n",
    "plt.plot(x,percents)\n",
    "#"
   ]
  },
  {
   "cell_type": "markdown",
   "metadata": {},
   "source": [
    "Result of the analysis: you should find that we can be satisfied with 10,000 or even 5,000 words - this is important, because it will determine the size of the objects we will manipulate. "
   ]
  },
  {
   "cell_type": "code",
   "execution_count": 389,
   "metadata": {},
   "outputs": [],
   "source": [
    "vocab_5k, word_counts_5k = vocabulary(texts_reduced, 0, 5000)"
   ]
  },
  {
   "cell_type": "code",
   "execution_count": 252,
   "metadata": {},
   "outputs": [
    {
     "name": "stdout",
     "output_type": "stream",
     "text": [
      "662\n"
     ]
    }
   ],
   "source": [
    "print(vocab_5k['cinema'])"
   ]
  },
  {
   "cell_type": "markdown",
   "metadata": {},
   "source": [
    "We could here compute the co-occurence matrix, and then reduce its dimension. Instead, we will use two of the most popular methods used to produce dense word representations (word embeddings). These methods are very different in practice, but are conceptually close, and resemble the procedure described earlier: reducing the dimension of co-occurences metrics.\n",
    "\n",
    "## Getting a representation: commonly used algorithms\n",
    "\n",
    "The idea here is to define a set of representations ${w_{i}}_{i=1}^{V}$, of predefined dimension $d$ (here, we will work with $d = 300$), for all the words $i$ of the vocabulary $V$ - then **train** these representations to match what we want. "
   ]
  },
  {
   "cell_type": "markdown",
   "metadata": {},
   "source": [
    "### Word2Vec\n",
    "\n",
    "\n",
    "####  The skip-gram model\n",
    "\n",
    "The basic skip-gram model estimates the probabilities of a pair of words $(i, j)$ to appear together in data:\n",
    "\n",
    "$$P(j \\mid i) = \\frac{\\exp(w_{i} c_{j})}{\\sum_{j'\\in V}\\exp(w_{i} c_{j'})}$$\n",
    "\n",
    "\n",
    "where $w_{i}$ is the lign vector (of the word) $i$ and $c_{j}$ is the column vector (of a context word) $j$. The objective is to minimize the following quantity:\n",
    "\n",
    "\n",
    "$$ -\\sum_{i=1}^{m} \\sum_{k=1}^{|V|} \\textbf{1}\\{o_{i}=k\\} \\log \\frac{\\exp(w_{i} c_{k})}{\\sum_{j=1}^{|V|} \\exp(w_{i} c_{j})}$$\n",
    "\n",
    "\n",
    "where $V$ is the vocabulary.\n",
    "The inputs $w_{i}$ are the representations of the words, which are updated during training, and the output is an *one-hot* $o$ vector, which contains only one $1$ and $0$. For example, if `good` is the 47th word in the vocabulary, the output $o$ for an example or `good` is the word to predict will consist of $0$s everywhere except $1$ in the 47th position of the vector. `good` will be the word to predict when the input $w$ is a word in its context.\n",
    "We therefore obtain this output with standard softmax - we add a bias term $b$ .\n",
    "\n",
    "\n",
    "$$ o = \\textbf{softmax}(w_{a}C + b)$$\n",
    "\n",
    "\n",
    "If we use the set of representations for the whole vocabulary (the matrix $W$) as input, we get:\n",
    "\n",
    "\n",
    "$$ O = \\textbf{softmax}(WC + b)$$\n",
    "\n",
    "\n",
    "and so we come back to the central idea of all our methods: we seek to obtain word representations from co-occurrence counts. Here, we train the parameters contained in $W$ and $C$, two matrices representing the words in reduced dimension (300) so that their scalar product is as close as possible to the co-occurrences observed in the data, using a maximum likelihood objective.\n",
    "\n",
    "#### Skip-gram with negative sampling\n",
    "\n",
    "The training of the skip-gram model implies to calculate a sum on the whole vocabulary, because of the **softmax**. As soon as the size of the vocabulary increases, it becomes impossible to compute. In order to make the calculations faster, we change the objective and use the method of *negative sampling* (or, very close to it, the *noise contrastive estimation*).\n",
    "\n",
    "\n",
    "If we note $\\mathcal{D}$ the data set and we note $\\mathcal{D}'$ a set of pairs of words that are **not** in the data (and that in practice, we draw randomly), the objective is:\n",
    "\n",
    "\n",
    "$$\\sum_{i, j \\in \\mathcal{D}}-\\log\\sigma(w_{i}c_{j}) + \\sum_{i, j \\in \\mathcal{D}'}\\log\\sigma(w_{i}c_{j})$$\n",
    "\n",
    "\n",
    "where $\\sigma$ is the sigmoid activation function $\\frac{1}{1 + \\exp(-x)}$.\n",
    "A common practice is to generate pairs from $\\mathcal{D}'$ in proportion to the frequencies of the words in the training data (the so-called unigram distribution):\n",
    "\n",
    "\n",
    "$$P(w) = \\frac{\\textbf{T}(w)^{0.75}}{\\sum_{w'\\in V} \\textbf{T}(w')}$$\n",
    "\n",
    "\n",
    "Although different, this new objective function is a sufficient approximation of the previous one, and is based on the same principle. Much research has been done on this objective: for example, [Levy and Golberg 2014](http://papers.nips.cc/paper/5477-neural-word-embedding-as-implicit-matrix-factorization) shows that the objective calculates the PMI matrix shifted by a constant value. One can also see [Cotterell et al. 2017](https://aclanthology.coli.uni-saarland.de/papers/E17-2028/e17-2028) for an interpretation of the algorithm as a variant of PCA."
   ]
  },
  {
   "cell_type": "markdown",
   "metadata": {},
   "source": [
    "We will use the ```gensim``` library for its implementation of word2vec in python. We'll have to make a specific use of it, since we want to keep the same vocabulary as before: we'll first create the class, then get the vocabulary we generated above. \n",
    "To avoid having to put all the data in memory all at once, we define a generator, which will take all the input data and pre-process it, and return to the ```Word2Vec``` class sentence by sentence. "
   ]
  },
  {
   "cell_type": "code",
   "execution_count": 150,
   "metadata": {},
   "outputs": [
    {
     "name": "stdout",
     "output_type": "stream",
     "text": [
      "Collecting gensim\n",
      "  Downloading https://files.pythonhosted.org/packages/0b/66/04faeedb98bfa5f241d0399d0102456886179cabac0355475f23a2978847/gensim-3.8.3-cp37-cp37m-win_amd64.whl (24.2MB)\n",
      "Requirement already satisfied, skipping upgrade: numpy>=1.11.3 in c:\\users\\administrator\\anaconda3\\lib\\site-packages (from gensim) (1.18.3)\n",
      "Collecting smart-open>=1.8.1 (from gensim)\n",
      "  Downloading https://files.pythonhosted.org/packages/74/77/744c79da6e66691e3500b6dffff29bdd787015eae817d594791edc7b719b/smart_open-2.0.0.tar.gz (103kB)\n",
      "Requirement already satisfied, skipping upgrade: scipy>=0.18.1 in c:\\users\\administrator\\anaconda3\\lib\\site-packages (from gensim) (1.4.1)\n",
      "Collecting Cython==0.29.14 (from gensim)\n",
      "  Downloading https://files.pythonhosted.org/packages/1f/be/b14be5c3ad1ff73096b518be1538282f053ec34faaca60a8753d975d7e93/Cython-0.29.14-cp37-cp37m-win_amd64.whl (1.7MB)\n",
      "Requirement already satisfied, skipping upgrade: six>=1.5.0 in c:\\users\\administrator\\anaconda3\\lib\\site-packages (from gensim) (1.12.0)\n",
      "Requirement already satisfied, skipping upgrade: requests in c:\\users\\administrator\\anaconda3\\lib\\site-packages (from smart-open>=1.8.1->gensim) (2.22.0)\n",
      "Requirement already satisfied, skipping upgrade: boto in c:\\users\\administrator\\anaconda3\\lib\\site-packages (from smart-open>=1.8.1->gensim) (2.49.0)\n",
      "Collecting boto3 (from smart-open>=1.8.1->gensim)\n",
      "  Downloading https://files.pythonhosted.org/packages/9f/ac/277f20e320c0e5b3afe7c1c3f0e16d25ae91fa406eedf4030e1587cc7458/boto3-1.13.6-py2.py3-none-any.whl (128kB)\n",
      "Requirement already satisfied, skipping upgrade: certifi>=2017.4.17 in c:\\users\\administrator\\anaconda3\\lib\\site-packages (from requests->smart-open>=1.8.1->gensim) (2019.9.11)\n",
      "Requirement already satisfied, skipping upgrade: urllib3!=1.25.0,!=1.25.1,<1.26,>=1.21.1 in c:\\users\\administrator\\anaconda3\\lib\\site-packages (from requests->smart-open>=1.8.1->gensim) (1.24.2)\n",
      "Requirement already satisfied, skipping upgrade: chardet<3.1.0,>=3.0.2 in c:\\users\\administrator\\anaconda3\\lib\\site-packages (from requests->smart-open>=1.8.1->gensim) (3.0.4)\n",
      "Requirement already satisfied, skipping upgrade: idna<2.9,>=2.5 in c:\\users\\administrator\\anaconda3\\lib\\site-packages (from requests->smart-open>=1.8.1->gensim) (2.8)\n",
      "Collecting s3transfer<0.4.0,>=0.3.0 (from boto3->smart-open>=1.8.1->gensim)\n",
      "  Downloading https://files.pythonhosted.org/packages/69/79/e6afb3d8b0b4e96cefbdc690f741d7dd24547ff1f94240c997a26fa908d3/s3transfer-0.3.3-py2.py3-none-any.whl (69kB)\n",
      "Collecting jmespath<1.0.0,>=0.7.1 (from boto3->smart-open>=1.8.1->gensim)\n",
      "  Downloading https://files.pythonhosted.org/packages/a3/43/1e939e1fcd87b827fe192d0c9fc25b48c5b3368902bfb913de7754b0dc03/jmespath-0.9.5-py2.py3-none-any.whl\n",
      "Collecting botocore<1.17.0,>=1.16.6 (from boto3->smart-open>=1.8.1->gensim)\n",
      "  Downloading https://files.pythonhosted.org/packages/33/d8/28d88d8f7210c0ecc81d53abc5025b35eede4256a636823e76964ccca408/botocore-1.16.6-py2.py3-none-any.whl (6.2MB)\n",
      "Requirement already satisfied, skipping upgrade: python-dateutil<3.0.0,>=2.1 in c:\\users\\administrator\\anaconda3\\lib\\site-packages (from botocore<1.17.0,>=1.16.6->boto3->smart-open>=1.8.1->gensim) (2.8.0)\n",
      "Requirement already satisfied, skipping upgrade: docutils<0.16,>=0.10 in c:\\users\\administrator\\anaconda3\\lib\\site-packages (from botocore<1.17.0,>=1.16.6->boto3->smart-open>=1.8.1->gensim) (0.15.2)\n",
      "Building wheels for collected packages: smart-open\n",
      "  Building wheel for smart-open (setup.py): started\n",
      "  Building wheel for smart-open (setup.py): finished with status 'done'\n",
      "  Created wheel for smart-open: filename=smart_open-2.0.0-cp37-none-any.whl size=101347 sha256=abc288b3f7117c5b955d6f8bba554fb35bf84055f42257133ed55464b7d47855\n",
      "  Stored in directory: C:\\Users\\Administrator\\AppData\\Local\\pip\\Cache\\wheels\\27\\65\\38\\8d7f5fe8d7afb4e4566587b2d1933cec185fba19257836c943\n",
      "Successfully built smart-open\n",
      "Installing collected packages: jmespath, botocore, s3transfer, boto3, smart-open, Cython, gensim\n",
      "  Found existing installation: Cython 0.29.13\n",
      "    Uninstalling Cython-0.29.13:\n",
      "      Successfully uninstalled Cython-0.29.13\n",
      "Successfully installed Cython-0.29.14 boto3-1.13.6 botocore-1.16.6 gensim-3.8.3 jmespath-0.9.5 s3transfer-0.3.3 smart-open-2.0.0\n"
     ]
    }
   ],
   "source": [
    "!pip install -U gensim"
   ]
  },
  {
   "cell_type": "code",
   "execution_count": 478,
   "metadata": {},
   "outputs": [],
   "source": [
    "from gensim.models import Word2Vec\n",
    "\n",
    "# Creates the Word2Vec model with the relevant parameters\n",
    "model = Word2Vec(size=300,\n",
    "                 window=5,\n",
    "                 iter=30)\n",
    "\n",
    "# Get the vocabulary from the counts we created earlier\n",
    "model.build_vocab_from_freq(word_counts_5k)"
   ]
  },
  {
   "cell_type": "code",
   "execution_count": 479,
   "metadata": {},
   "outputs": [],
   "source": [
    "def preprocess_generator(large_corpus):\n",
    "    for line in large_corpus:\n",
    "        yield clean_and_tokenize(line)"
   ]
  },
  {
   "cell_type": "code",
   "execution_count": 480,
   "metadata": {},
   "outputs": [
    {
     "data": {
      "text/plain": [
       "(301589, 467268)"
      ]
     },
     "execution_count": 480,
     "metadata": {},
     "output_type": "execute_result"
    }
   ],
   "source": [
    "model.train(preprocess_generator(texts_reduced[:]), total_examples=10, epochs=30, report_delay=1)"
   ]
  },
  {
   "cell_type": "code",
   "execution_count": 481,
   "metadata": {},
   "outputs": [],
   "source": [
    "W2VEmbeddings = model.wv.vectors"
   ]
  },
  {
   "cell_type": "markdown",
   "metadata": {},
   "source": [
    "### Glove\n",
    "\n",
    "The objective defined by Glove ([Pennington et al. (2014)](http://www.aclweb.org/anthology/D/D14/D14-1162.pdf)) is to learn from the vectors $w_{i}$ and $w_{k}$ so that their scalar product corresponds to the logarithm of their **Pointwise Mutual Information**: \n",
    "\n",
    "\n",
    "$$ w_{i}^\\top w_{k} = (PMI(w_{i}, w_{k}))$$\n",
    "\n",
    "\n",
    "In the article, this objective is carefully justified by a reasoning about the operations one wants to perform with these vectors and the properties they should have - in particular, symmetry between rows and columns (see the article for more details).  \n",
    "The final goal obtained is the following, where $M$ is the co-occurrence matrix:\n",
    "\n",
    "\n",
    "$$\\sum_{i, j=1}^{|V|} f\\left(M_{ij}\\right)\n",
    "  \\left(w_i^\\top w_j + b_i + b_j - \\log M_{ij}\\right)^2$$\n",
    "  \n",
    " \n",
    "Here, $f$ is a *scaling* function that reduces the importance of the most frequent co-occurrence counts: \n",
    "\n",
    "\n",
    "$$f(x) \n",
    "\\begin{cases}\n",
    "(x/x_{\\max})^{\\alpha} & \\textrm{if } x < x_{\\max} \\\\\n",
    "1 & \\textrm{otherwise}\n",
    "\\end{cases}$$\n",
    "\n",
    "\n",
    "Usually, we choose $\\alpha=0.75$ and $x_{\\max} = 100$, although these parameters may need to be changed depending on the data."
   ]
  },
  {
   "cell_type": "markdown",
   "metadata": {},
   "source": [
    "The following code uses the gensim API to retrieve pre-trained representations (It is normal that the loading is long)."
   ]
  },
  {
   "cell_type": "code",
   "execution_count": 259,
   "metadata": {},
   "outputs": [
    {
     "name": "stdout",
     "output_type": "stream",
     "text": [
      "[==================================================] 100.0% 376.1/376.1MB downloaded\n"
     ]
    }
   ],
   "source": [
    "import gensim.downloader as api\n",
    "loaded_glove_model = api.load(\"glove-wiki-gigaword-300\")"
   ]
  },
  {
   "cell_type": "markdown",
   "metadata": {},
   "source": [
    "We can extract the embedding matrix this way, and check its size:"
   ]
  },
  {
   "cell_type": "code",
   "execution_count": 260,
   "metadata": {},
   "outputs": [
    {
     "name": "stdout",
     "output_type": "stream",
     "text": [
      "(400000, 300)\n"
     ]
    }
   ],
   "source": [
    "loaded_glove_embeddings = loaded_glove_model.vectors\n",
    "print(loaded_glove_embeddings.shape)"
   ]
  },
  {
   "cell_type": "markdown",
   "metadata": {},
   "source": [
    "We can see that there are $400,000$ words represented, and that the embeddings are of size $300$. We define a function that returns, from the loaded model, the vocabulary and the embedding matrix according to the structures we used before. We add, here again, an unknown word \"UNK\" in case there are words in our data that are not part of the $400,000$ words represented here. "
   ]
  },
  {
   "cell_type": "code",
   "execution_count": 261,
   "metadata": {},
   "outputs": [],
   "source": [
    "def get_glove_voc_and_embeddings(glove_model):\n",
    "    voc = {word : index for word, index in enumerate(glove_model.index2word)}\n",
    "    voc['UNK'] = len(voc)\n",
    "    embeddings = glove_model.vectors\n",
    "    return voc, embeddings"
   ]
  },
  {
   "cell_type": "code",
   "execution_count": 262,
   "metadata": {},
   "outputs": [],
   "source": [
    "loaded_glove_voc, loaded_glove_embeddings = get_glove_voc_and_embeddings(loaded_glove_model)"
   ]
  },
  {
   "cell_type": "markdown",
   "metadata": {},
   "source": [
    "In order to compare the representations loaded here and the ones produced with word2vec, the same vocabulary should be used. For this purpose, I reuse the following code to create a $5000$ word vocabulary from the data, and I add at the end a function that returns the matrix of representations loaded with Glove for these $5000$ words only, in the right order. "
   ]
  },
  {
   "cell_type": "code",
   "execution_count": 263,
   "metadata": {},
   "outputs": [],
   "source": [
    "def get_glove_adapted_embeddings(glove_model, input_voc):\n",
    "    keys = {i: glove_model.vocab.get(w, None) for w, i in input_voc.items()}\n",
    "    index_dict = {i: key.index for i, key in keys.items() if key is not None}\n",
    "    embeddings = np.zeros((len(input_voc),glove_model.vectors.shape[1]))\n",
    "    for i, ind in index_dict.items():\n",
    "        embeddings[i] = glove_model.vectors[ind]\n",
    "    return embeddings"
   ]
  },
  {
   "cell_type": "code",
   "execution_count": 264,
   "metadata": {},
   "outputs": [],
   "source": [
    "GloveEmbeddings = get_glove_adapted_embeddings(loaded_glove_model, vocab_5k)"
   ]
  },
  {
   "cell_type": "markdown",
   "metadata": {},
   "source": [
    "This function takes as input the model loaded using the Gensim API, as well as a vocabulary we created ourselves, and returns the embedding matrix from the loaded model, for the words in our vocabulary and in the right order.\n",
    "Note: unknown words are represented by a vector of zeros:"
   ]
  },
  {
   "cell_type": "code",
   "execution_count": 265,
   "metadata": {},
   "outputs": [
    {
     "name": "stdout",
     "output_type": "stream",
     "text": [
      "(5001, 300)\n"
     ]
    },
    {
     "data": {
      "text/plain": [
       "array([0., 0., 0., 0., 0., 0., 0., 0., 0., 0., 0., 0., 0., 0., 0., 0., 0.,\n",
       "       0., 0., 0., 0., 0., 0., 0., 0., 0., 0., 0., 0., 0., 0., 0., 0., 0.,\n",
       "       0., 0., 0., 0., 0., 0., 0., 0., 0., 0., 0., 0., 0., 0., 0., 0., 0.,\n",
       "       0., 0., 0., 0., 0., 0., 0., 0., 0., 0., 0., 0., 0., 0., 0., 0., 0.,\n",
       "       0., 0., 0., 0., 0., 0., 0., 0., 0., 0., 0., 0., 0., 0., 0., 0., 0.,\n",
       "       0., 0., 0., 0., 0., 0., 0., 0., 0., 0., 0., 0., 0., 0., 0., 0., 0.,\n",
       "       0., 0., 0., 0., 0., 0., 0., 0., 0., 0., 0., 0., 0., 0., 0., 0., 0.,\n",
       "       0., 0., 0., 0., 0., 0., 0., 0., 0., 0., 0., 0., 0., 0., 0., 0., 0.,\n",
       "       0., 0., 0., 0., 0., 0., 0., 0., 0., 0., 0., 0., 0., 0., 0., 0., 0.,\n",
       "       0., 0., 0., 0., 0., 0., 0., 0., 0., 0., 0., 0., 0., 0., 0., 0., 0.,\n",
       "       0., 0., 0., 0., 0., 0., 0., 0., 0., 0., 0., 0., 0., 0., 0., 0., 0.,\n",
       "       0., 0., 0., 0., 0., 0., 0., 0., 0., 0., 0., 0., 0., 0., 0., 0., 0.,\n",
       "       0., 0., 0., 0., 0., 0., 0., 0., 0., 0., 0., 0., 0., 0., 0., 0., 0.,\n",
       "       0., 0., 0., 0., 0., 0., 0., 0., 0., 0., 0., 0., 0., 0., 0., 0., 0.,\n",
       "       0., 0., 0., 0., 0., 0., 0., 0., 0., 0., 0., 0., 0., 0., 0., 0., 0.,\n",
       "       0., 0., 0., 0., 0., 0., 0., 0., 0., 0., 0., 0., 0., 0., 0., 0., 0.,\n",
       "       0., 0., 0., 0., 0., 0., 0., 0., 0., 0., 0., 0., 0., 0., 0., 0., 0.,\n",
       "       0., 0., 0., 0., 0., 0., 0., 0., 0., 0., 0.])"
      ]
     },
     "execution_count": 265,
     "metadata": {},
     "output_type": "execute_result"
    }
   ],
   "source": [
    "print(GloveEmbeddings.shape)\n",
    "GloveEmbeddings[vocab_5k['UNK']]"
   ]
  },
  {
   "cell_type": "markdown",
   "metadata": {},
   "source": [
    "### Comparing vectors\n",
    "\n",
    "These very large vectors can be used for a very basic semantic analysis: for example, by searching for the closest neighbors of a word. However, one must be careful with the distances used, related to certain metrics (Euclidean, Cosine) or possibly others related to belonging to sets (Matching, Jaccard). The normalization of vectors can also play a role. In any case, care must be taken not to over-interpret such results. "
   ]
  },
  {
   "cell_type": "code",
   "execution_count": 482,
   "metadata": {},
   "outputs": [
    {
     "name": "stdout",
     "output_type": "stream",
     "text": [
      "Plus proches voisins de good selon la distance 'euclidean': \n",
      "[['hammy', 'career.', 'fancy', 'voice-over', 'film.', 'Edward', '/>Overall,', 'Branagh', 'pace']]\n",
      "Plus proches voisins de good selon la distance 'cosine': \n",
      "[['stay', 'career.', 'Branagh', 'film.', 'closest', 'hammy', 'par', 'awesome.', 'buried']]\n",
      "Plus proches voisins de good selon la distance 'euclidean': \n",
      "[['better', 'well', 'always', 'really', 'sure', 'way', 'so', 'but', 'excellent']]\n",
      "Plus proches voisins de good selon la distance 'cosine': \n",
      "[['better', 'really', 'always', 'you', 'well', 'excellent', 'very', 'things', 'think']]\n"
     ]
    },
    {
     "name": "stderr",
     "output_type": "stream",
     "text": [
      "C:\\Users\\Administrator\\Anaconda3\\lib\\site-packages\\ipykernel_launcher.py:5: RuntimeWarning: invalid value encountered in true_divide\n",
      "  \"\"\"\n"
     ]
    }
   ],
   "source": [
    "def euclidean(u, v):\n",
    "    return np.linalg.norm(u-v)\n",
    "\n",
    "def length_norm(u):\n",
    "    return u / np.sqrt(u.dot(u))\n",
    "\n",
    "def cosine(u, v):\n",
    "    return 1.0 - length_norm(u).dot(length_norm(v))\n",
    "\n",
    "from sklearn.neighbors import NearestNeighbors\n",
    "\n",
    "def print_neighbors(distance, voc, co_oc, mot, k=10):\n",
    "    inv_voc = {id: w for w, id in voc.items()}\n",
    "    neigh = NearestNeighbors(k, algorithm='brute', metric=distance)\n",
    "    neigh.fit(co_oc) \n",
    "    dist, ind = neigh.kneighbors([co_oc[voc[mot]]])\n",
    "    print(\"Plus proches voisins de %s selon la distance '%s': \" % (mot, distance.__name__))\n",
    "    print([[inv_voc[i] for i in s[1:]] for s in ind])\n",
    "    \n",
    "print_neighbors(euclidean, vocab_5k, W2VEmbeddings, 'good')\n",
    "print_neighbors(cosine, vocab_5k, W2VEmbeddings, 'good')\n",
    "\n",
    "print_neighbors(euclidean, vocab_5k, GloveEmbeddings, 'good')\n",
    "print_neighbors(cosine, vocab_5k, GloveEmbeddings, 'good')"
   ]
  },
  {
   "cell_type": "markdown",
   "metadata": {},
   "source": [
    "### Visualisation in two dimensions\n",
    "\n",
    "We will now use **principal component analysis** (PCA) to visualize our data in 2 dimensions.  This is equivalent to applying SVD to the covariance matrix of the data, so that the principal directions are independent of each other and maximize the variance of the data.\n",
    "We use the class ```PCA``` from the ```scikit-learn``` package: "
   ]
  },
  {
   "cell_type": "code",
   "execution_count": 483,
   "metadata": {},
   "outputs": [
    {
     "data": {
      "image/png": "[encoded data removed]",
      "text/plain": [
       "<Figure size 432x288 with 1 Axes>"
      ]
     },
     "metadata": {
      "needs_background": "light"
     },
     "output_type": "display_data"
    }
   ],
   "source": [
    "from sklearn.decomposition import PCA\n",
    "pca = PCA(n_components=2, whiten=True)\n",
    "Emb = pca.fit_transform(GloveEmbeddings)\n",
    "\n",
    "words = ['bad', 'good', 'best', 'worst', 'poor', 'great',\n",
    "         'dialog', 'role', 'actor', 'camera', 'scene',\n",
    "         'film', 'movie','Oscar', 'award']#  'oscar'\n",
    "ind_words = [vocab_5k[w] for w in words]\n",
    "x_words = [Emb[ind,0] for ind in ind_words]\n",
    "y_words = [Emb[ind,1] for ind in ind_words]\n",
    "\n",
    "fig, ax = plt.subplots()\n",
    "ax.scatter(x_words, y_words)\n",
    "\n",
    "for i, w in enumerate(words):\n",
    "    ax.annotate(w, (x_words[i], y_words[i]), (x_words[i] + 0.001, y_words[i] + 0.001))"
   ]
  },
  {
   "cell_type": "code",
   "execution_count": 276,
   "metadata": {},
   "outputs": [
    {
     "data": {
      "image/png": "[encoded data removed]",
      "text/plain": [
       "<Figure size 432x288 with 1 Axes>"
      ]
     },
     "metadata": {
      "needs_background": "light"
     },
     "output_type": "display_data"
    }
   ],
   "source": [
    "pca = PCA(n_components=2, whiten=True)\n",
    "Emb = pca.fit_transform(W2VEmbeddings)\n",
    "\n",
    "words = ['bad', 'good', 'best', 'worst', 'poor', 'great',\n",
    "         'dialog', 'role', 'actor', 'camera', 'scene',\n",
    "         'film', 'movie','Oscar', 'award']# \n",
    "ind_words = [vocab_5k[w] for w in words]\n",
    "x_words = [Emb[ind,0] for ind in ind_words]\n",
    "y_words = [Emb[ind,1] for ind in ind_words]\n",
    "\n",
    "fig, ax = plt.subplots()\n",
    "ax.scatter(x_words, y_words)\n",
    "\n",
    "for i, w in enumerate(words):\n",
    "    ax.annotate(w, (x_words[i], y_words[i]), (x_words[i] + 0.001, y_words[i] + 0.001))"
   ]
  },
  {
   "cell_type": "markdown",
   "metadata": {},
   "source": [
    "Try to obtain visualisation for more words/words that may be interesting given the data !"
   ]
  },
  {
   "cell_type": "markdown",
   "metadata": {},
   "source": [
    "## Application to sentiment analysis\n",
    "\n",
    "We will now use these representations for sentiment analysis. \n",
    "The basic model, as before, will be constructed in two steps:\n",
    "- A function to obtain vector representations of criticism, from text, vocabulary, and vector representations of words. Such a function (to be completed below) will associate to each word of a review its embeddings, and create the representation for the whole sentence by summing these embeddings.\n",
    "- A classifier will take these representations as input and make a prediction. To achieve this, we can first use logistic regression ```LogisticRegression``` from ```scikit-learn```  "
   ]
  },
  {
   "cell_type": "code",
   "execution_count": 383,
   "metadata": {},
   "outputs": [],
   "source": [
    "def sentence_representations(texts, vocabulary, embeddings, np_func=np.sum):\n",
    "    \"\"\"\n",
    "    Represent the sentences as a combination of the vector of its words.\n",
    "    Parameters\n",
    "    ----------\n",
    "    texts : a list of sentences   \n",
    "    vocabulary : dict\n",
    "        From words to indexes of vector.\n",
    "    embeddings : Matrix containing word representations\n",
    "    np_func : function (default: np.sum)\n",
    "        A numpy matrix operation that can be applied columnwise, \n",
    "        like `np.mean`, `np.sum`, or `np.prod`. \n",
    "    Returns\n",
    "    -------\n",
    "    np.array, dimension `(len(texts), embeddings.shape[1])`            \n",
    "    \"\"\"\n",
    "    #    \n",
    "    representations=[]\n",
    "    voc=list(vocabulary.keys())\n",
    "    for i, document in enumerate(texts):\n",
    "        words=clean_and_tokenize(document)\n",
    "        words=list(words)\n",
    "        representations_=np.zeros(embeddings.shape[1])\n",
    "        for j, word in enumerate(words):\n",
    "            if (word in voc) :\n",
    "                representations_+=embeddings[voc.index(word)]\n",
    "        representations.append(representations_)\n",
    "    representations=np.array(representations)\n",
    "    return representations"
   ]
  },
  {
   "cell_type": "code",
   "execution_count": 384,
   "metadata": {},
   "outputs": [
    {
     "data": {
      "text/plain": [
       "5001"
      ]
     },
     "execution_count": 384,
     "metadata": {},
     "output_type": "execute_result"
    }
   ],
   "source": [
    "len(vocab_5k)"
   ]
  },
  {
   "cell_type": "code",
   "execution_count": 385,
   "metadata": {},
   "outputs": [
    {
     "data": {
      "text/plain": [
       "(5001, 300)"
      ]
     },
     "execution_count": 385,
     "metadata": {},
     "output_type": "execute_result"
    }
   ],
   "source": [
    "GloveEmbeddings.shape"
   ]
  },
  {
   "cell_type": "code",
   "execution_count": 386,
   "metadata": {},
   "outputs": [
    {
     "data": {
      "text/plain": [
       "array([0, 0, 0, ..., 1, 1, 1])"
      ]
     },
     "execution_count": 386,
     "metadata": {},
     "output_type": "execute_result"
    }
   ],
   "source": [
    "y_reduced[::2]"
   ]
  },
  {
   "cell_type": "code",
   "execution_count": 387,
   "metadata": {},
   "outputs": [
    {
     "name": "stderr",
     "output_type": "stream",
     "text": [
      "C:\\Users\\Administrator\\Anaconda3\\lib\\site-packages\\sklearn\\linear_model\\logistic.py:432: FutureWarning: Default solver will be changed to 'lbfgs' in 0.22. Specify a solver to silence this warning.\n",
      "  FutureWarning)\n"
     ]
    },
    {
     "name": "stdout",
     "output_type": "stream",
     "text": [
      "0.7736\n"
     ]
    },
    {
     "name": "stderr",
     "output_type": "stream",
     "text": [
      "C:\\Users\\Administrator\\Anaconda3\\lib\\site-packages\\sklearn\\linear_model\\logistic.py:432: FutureWarning: Default solver will be changed to 'lbfgs' in 0.22. Specify a solver to silence this warning.\n",
      "  FutureWarning)\n",
      "C:\\Users\\Administrator\\Anaconda3\\lib\\site-packages\\sklearn\\linear_model\\logistic.py:432: FutureWarning: Default solver will be changed to 'lbfgs' in 0.22. Specify a solver to silence this warning.\n",
      "  FutureWarning)\n",
      "C:\\Users\\Administrator\\Anaconda3\\lib\\site-packages\\sklearn\\linear_model\\logistic.py:432: FutureWarning: Default solver will be changed to 'lbfgs' in 0.22. Specify a solver to silence this warning.\n",
      "  FutureWarning)\n",
      "C:\\Users\\Administrator\\Anaconda3\\lib\\site-packages\\sklearn\\linear_model\\logistic.py:432: FutureWarning: Default solver will be changed to 'lbfgs' in 0.22. Specify a solver to silence this warning.\n",
      "  FutureWarning)\n",
      "C:\\Users\\Administrator\\Anaconda3\\lib\\site-packages\\sklearn\\linear_model\\logistic.py:432: FutureWarning: Default solver will be changed to 'lbfgs' in 0.22. Specify a solver to silence this warning.\n",
      "  FutureWarning)\n"
     ]
    },
    {
     "name": "stdout",
     "output_type": "stream",
     "text": [
      "Score de classification: 0.7748 (std 0.017278888853164157)\n"
     ]
    }
   ],
   "source": [
    "from sklearn.linear_model import LogisticRegression\n",
    "from sklearn.model_selection import cross_val_score\n",
    "\n",
    "# Exemple avec les embeddings obtenus via Glove\n",
    "rep = sentence_representations(texts_reduced, vocab_5k, GloveEmbeddings)\n",
    "clf = LogisticRegression().fit(rep[::2], y_reduced[::2])\n",
    "print(clf.score(rep[1::2], y_reduced[1::2]))\n",
    "\n",
    "scores = cross_val_score(clf, rep, y_reduced, cv=5)\n",
    "print('Score de classification: %s (std %s)' % (np.mean(scores), np.std(scores)))"
   ]
  },
  {
   "cell_type": "code",
   "execution_count": 398,
   "metadata": {},
   "outputs": [
    {
     "name": "stderr",
     "output_type": "stream",
     "text": [
      "C:\\Users\\Administrator\\Anaconda3\\lib\\site-packages\\sklearn\\linear_model\\logistic.py:432: FutureWarning: Default solver will be changed to 'lbfgs' in 0.22. Specify a solver to silence this warning.\n",
      "  FutureWarning)\n"
     ]
    },
    {
     "name": "stdout",
     "output_type": "stream",
     "text": [
      "0.8404\n"
     ]
    },
    {
     "name": "stderr",
     "output_type": "stream",
     "text": [
      "C:\\Users\\Administrator\\Anaconda3\\lib\\site-packages\\sklearn\\linear_model\\logistic.py:432: FutureWarning: Default solver will be changed to 'lbfgs' in 0.22. Specify a solver to silence this warning.\n",
      "  FutureWarning)\n",
      "C:\\Users\\Administrator\\Anaconda3\\lib\\site-packages\\sklearn\\linear_model\\logistic.py:432: FutureWarning: Default solver will be changed to 'lbfgs' in 0.22. Specify a solver to silence this warning.\n",
      "  FutureWarning)\n",
      "C:\\Users\\Administrator\\Anaconda3\\lib\\site-packages\\sklearn\\linear_model\\logistic.py:432: FutureWarning: Default solver will be changed to 'lbfgs' in 0.22. Specify a solver to silence this warning.\n",
      "  FutureWarning)\n",
      "C:\\Users\\Administrator\\Anaconda3\\lib\\site-packages\\sklearn\\linear_model\\logistic.py:432: FutureWarning: Default solver will be changed to 'lbfgs' in 0.22. Specify a solver to silence this warning.\n",
      "  FutureWarning)\n",
      "C:\\Users\\Administrator\\Anaconda3\\lib\\site-packages\\sklearn\\linear_model\\logistic.py:432: FutureWarning: Default solver will be changed to 'lbfgs' in 0.22. Specify a solver to silence this warning.\n",
      "  FutureWarning)\n"
     ]
    },
    {
     "name": "stdout",
     "output_type": "stream",
     "text": [
      "Score de classification: 0.83836 (std 0.0020372530525195054)\n"
     ]
    }
   ],
   "source": [
    "# all the data\n",
    "rep = sentence_representations(texts, vocab_5k, GloveEmbeddings)\n",
    "clf = LogisticRegression().fit(rep[::2], y[::2])\n",
    "print(clf.score(rep[1::2], y[1::2]))\n",
    "\n",
    "scores = cross_val_score(clf, rep, y, cv=5)\n",
    "print('Score de classification: %s (std %s)' % (np.mean(scores), np.std(scores)))"
   ]
  },
  {
   "cell_type": "code",
   "execution_count": 388,
   "metadata": {
    "scrolled": true
   },
   "outputs": [
    {
     "name": "stderr",
     "output_type": "stream",
     "text": [
      "C:\\Users\\Administrator\\Anaconda3\\lib\\site-packages\\sklearn\\linear_model\\logistic.py:432: FutureWarning: Default solver will be changed to 'lbfgs' in 0.22. Specify a solver to silence this warning.\n",
      "  FutureWarning)\n",
      "C:\\Users\\Administrator\\Anaconda3\\lib\\site-packages\\sklearn\\linear_model\\logistic.py:432: FutureWarning: Default solver will be changed to 'lbfgs' in 0.22. Specify a solver to silence this warning.\n",
      "  FutureWarning)\n",
      "C:\\Users\\Administrator\\Anaconda3\\lib\\site-packages\\sklearn\\linear_model\\logistic.py:432: FutureWarning: Default solver will be changed to 'lbfgs' in 0.22. Specify a solver to silence this warning.\n",
      "  FutureWarning)\n"
     ]
    },
    {
     "name": "stdout",
     "output_type": "stream",
     "text": [
      "0.6592\n"
     ]
    },
    {
     "name": "stderr",
     "output_type": "stream",
     "text": [
      "C:\\Users\\Administrator\\Anaconda3\\lib\\site-packages\\sklearn\\linear_model\\logistic.py:432: FutureWarning: Default solver will be changed to 'lbfgs' in 0.22. Specify a solver to silence this warning.\n",
      "  FutureWarning)\n",
      "C:\\Users\\Administrator\\Anaconda3\\lib\\site-packages\\sklearn\\linear_model\\logistic.py:432: FutureWarning: Default solver will be changed to 'lbfgs' in 0.22. Specify a solver to silence this warning.\n",
      "  FutureWarning)\n",
      "C:\\Users\\Administrator\\Anaconda3\\lib\\site-packages\\sklearn\\linear_model\\logistic.py:432: FutureWarning: Default solver will be changed to 'lbfgs' in 0.22. Specify a solver to silence this warning.\n",
      "  FutureWarning)\n"
     ]
    },
    {
     "name": "stdout",
     "output_type": "stream",
     "text": [
      "Score de classification: 0.6612 (std 0.009682974749528173)\n"
     ]
    }
   ],
   "source": [
    "# Exemple avec les embeddings obtenus via word2vect\n",
    "rep = sentence_representations(texts_reduced, vocab_5k, W2VEmbeddings)\n",
    "clf = LogisticRegression().fit(rep[::2], y_reduced[::2])\n",
    "print(clf.score(rep[1::2], y_reduced[1::2]))\n",
    "\n",
    "scores = cross_val_score(clf, rep, y_reduced, cv=5)\n",
    "print('Score de classification: %s (std %s)' % (np.mean(scores), np.std(scores)))"
   ]
  },
  {
   "cell_type": "code",
   "execution_count": 399,
   "metadata": {
    "scrolled": true
   },
   "outputs": [
    {
     "name": "stderr",
     "output_type": "stream",
     "text": [
      "C:\\Users\\Administrator\\Anaconda3\\lib\\site-packages\\sklearn\\linear_model\\logistic.py:432: FutureWarning: Default solver will be changed to 'lbfgs' in 0.22. Specify a solver to silence this warning.\n",
      "  FutureWarning)\n"
     ]
    },
    {
     "name": "stdout",
     "output_type": "stream",
     "text": [
      "0.71824\n"
     ]
    },
    {
     "name": "stderr",
     "output_type": "stream",
     "text": [
      "C:\\Users\\Administrator\\Anaconda3\\lib\\site-packages\\sklearn\\linear_model\\logistic.py:432: FutureWarning: Default solver will be changed to 'lbfgs' in 0.22. Specify a solver to silence this warning.\n",
      "  FutureWarning)\n",
      "C:\\Users\\Administrator\\Anaconda3\\lib\\site-packages\\sklearn\\linear_model\\logistic.py:432: FutureWarning: Default solver will be changed to 'lbfgs' in 0.22. Specify a solver to silence this warning.\n",
      "  FutureWarning)\n",
      "C:\\Users\\Administrator\\Anaconda3\\lib\\site-packages\\sklearn\\linear_model\\logistic.py:432: FutureWarning: Default solver will be changed to 'lbfgs' in 0.22. Specify a solver to silence this warning.\n",
      "  FutureWarning)\n",
      "C:\\Users\\Administrator\\Anaconda3\\lib\\site-packages\\sklearn\\linear_model\\logistic.py:432: FutureWarning: Default solver will be changed to 'lbfgs' in 0.22. Specify a solver to silence this warning.\n",
      "  FutureWarning)\n",
      "C:\\Users\\Administrator\\Anaconda3\\lib\\site-packages\\sklearn\\linear_model\\logistic.py:432: FutureWarning: Default solver will be changed to 'lbfgs' in 0.22. Specify a solver to silence this warning.\n",
      "  FutureWarning)\n"
     ]
    },
    {
     "name": "stdout",
     "output_type": "stream",
     "text": [
      "Score de classification: 0.7308000000000001 (std 0.005067543783727991)\n"
     ]
    }
   ],
   "source": [
    "# all the data\n",
    "rep = sentence_representations(texts, vocab_5k, W2VEmbeddings)\n",
    "clf = LogisticRegression().fit(rep[::2], y[::2])\n",
    "print(clf.score(rep[1::2], y[1::2]))\n",
    "\n",
    "scores = cross_val_score(clf, rep, y, cv=5)\n",
    "print('Score de classification: %s (std %s)' % (np.mean(scores), np.std(scores)))"
   ]
  },
  {
   "cell_type": "code",
   "execution_count": 474,
   "metadata": {},
   "outputs": [],
   "source": [
    "# Creates the Word2Vec model with the diffferent parameters\n",
    "model = Word2Vec(size=400,\n",
    "                 window=3,\n",
    "                 iter=30)\n",
    "\n",
    "# Get the vocabulary from the counts we created earlier\n",
    "model.build_vocab_from_freq(word_counts_5k)"
   ]
  },
  {
   "cell_type": "code",
   "execution_count": 475,
   "metadata": {},
   "outputs": [
    {
     "data": {
      "text/plain": [
       "(13, 22)"
      ]
     },
     "execution_count": 475,
     "metadata": {},
     "output_type": "execute_result"
    }
   ],
   "source": [
    "model.train(preprocess_generator(corpus[:]), total_examples=10, epochs=30, report_delay=1)"
   ]
  },
  {
   "cell_type": "code",
   "execution_count": 476,
   "metadata": {},
   "outputs": [],
   "source": [
    "W2VEmbeddings = model.wv.vectors"
   ]
  },
  {
   "cell_type": "code",
   "execution_count": 477,
   "metadata": {},
   "outputs": [
    {
     "name": "stderr",
     "output_type": "stream",
     "text": [
      "C:\\Users\\Administrator\\Anaconda3\\lib\\site-packages\\sklearn\\linear_model\\logistic.py:432: FutureWarning: Default solver will be changed to 'lbfgs' in 0.22. Specify a solver to silence this warning.\n",
      "  FutureWarning)\n",
      "C:\\Users\\Administrator\\Anaconda3\\lib\\site-packages\\sklearn\\linear_model\\logistic.py:432: FutureWarning: Default solver will be changed to 'lbfgs' in 0.22. Specify a solver to silence this warning.\n",
      "  FutureWarning)\n",
      "C:\\Users\\Administrator\\Anaconda3\\lib\\site-packages\\sklearn\\linear_model\\logistic.py:432: FutureWarning: Default solver will be changed to 'lbfgs' in 0.22. Specify a solver to silence this warning.\n",
      "  FutureWarning)\n"
     ]
    },
    {
     "name": "stdout",
     "output_type": "stream",
     "text": [
      "0.6672\n"
     ]
    },
    {
     "name": "stderr",
     "output_type": "stream",
     "text": [
      "C:\\Users\\Administrator\\Anaconda3\\lib\\site-packages\\sklearn\\linear_model\\logistic.py:432: FutureWarning: Default solver will be changed to 'lbfgs' in 0.22. Specify a solver to silence this warning.\n",
      "  FutureWarning)\n",
      "C:\\Users\\Administrator\\Anaconda3\\lib\\site-packages\\sklearn\\linear_model\\logistic.py:432: FutureWarning: Default solver will be changed to 'lbfgs' in 0.22. Specify a solver to silence this warning.\n",
      "  FutureWarning)\n"
     ]
    },
    {
     "name": "stdout",
     "output_type": "stream",
     "text": [
      "Score de classification: 0.6684 (std 0.015969971822141674)\n"
     ]
    },
    {
     "name": "stderr",
     "output_type": "stream",
     "text": [
      "C:\\Users\\Administrator\\Anaconda3\\lib\\site-packages\\sklearn\\linear_model\\logistic.py:432: FutureWarning: Default solver will be changed to 'lbfgs' in 0.22. Specify a solver to silence this warning.\n",
      "  FutureWarning)\n"
     ]
    }
   ],
   "source": [
    "# Exemple avec les embeddings obtenus via word2vect\n",
    "rep = sentence_representations(texts_reduced, vocab_5k, W2VEmbeddings)\n",
    "clf = LogisticRegression().fit(rep[::2], y_reduced[::2])\n",
    "print(clf.score(rep[1::2], y_reduced[1::2]))\n",
    "\n",
    "scores = cross_val_score(clf, rep, y_reduced, cv=5)\n",
    "print('Score de classification: %s (std %s)' % (np.mean(scores), np.std(scores)))"
   ]
  },
  {
   "cell_type": "markdown",
   "metadata": {},
   "source": [
    "Why can we expect that the results obtained with embeddings extracted from representations pre-trained with Gl0ve are much better than word2vec ? What would be the way to compare Gl0ve with word2vec in a 'fair' way ? Try to play with word2vec parameters to improve results !"
   ]
  }
 ],
 "metadata": {
  "anaconda-cloud": {},
  "kernelspec": {
   "display_name": "Python 3",
   "language": "python",
   "name": "python3"
  },
  "language_info": {
   "codemirror_mode": {
    "name": "ipython",
    "version": 3
   },
   "file_extension": ".py",
   "mimetype": "text/x-python",
   "name": "python",
   "nbconvert_exporter": "python",
   "pygments_lexer": "ipython3",
   "version": "3.7.4"
  }
 },
 "nbformat": 4,
 "nbformat_minor": 1
}
